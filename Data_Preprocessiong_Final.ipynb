{
  "nbformat": 4,
  "nbformat_minor": 0,
  "metadata": {
    "colab": {
      "provenance": [],
      "gpuType": "T4"
    },
    "kernelspec": {
      "name": "python3",
      "display_name": "Python 3"
    },
    "language_info": {
      "name": "python"
    },
    "accelerator": "GPU"
  },
  "cells": [
    {
      "cell_type": "code",
      "execution_count": null,
      "metadata": {
        "colab": {
          "base_uri": "https://localhost:8080/"
        },
        "id": "C2vYKLH-yf3i",
        "outputId": "efb9ff61-09f6-42ff-a156-3a0fd5c52f4a"
      },
      "outputs": [
        {
          "output_type": "stream",
          "name": "stdout",
          "text": [
            "Mounted at /content/drive\n"
          ]
        }
      ],
      "source": [
        "from google.colab import drive\n",
        "drive.mount('/content/drive')"
      ]
    },
    {
      "cell_type": "code",
      "source": [
        "import os\n",
        "import cv2\n",
        "import numpy as np\n",
        "import tensorflow as tf\n",
        "import random as rn\n",
        "from IPython.display import Image\n",
        "from sklearn.model_selection import train_test_split\n",
        "import matplotlib.pyplot as plt\n",
        "import pandas as pd\n",
        "import matplotlib.cm as cm\n",
        "from matplotlib import pyplot as plt\n",
        "from PIL import Image\n",
        "\n",
        "import json\n",
        "\n",
        "%matplotlib inline"
      ],
      "metadata": {
        "id": "XFh85uLWygan"
      },
      "execution_count": null,
      "outputs": []
    },
    {
      "cell_type": "code",
      "source": [
        "dir_path = \"/content/drive/MyDrive/딥러닝 팀플/data/일부 데이터/Training/01.원천데이터\"\n",
        "json_path = \"/content/drive/MyDrive/딥러닝 팀플/data/일부 데이터/Training/02.라벨링데이터\""
      ],
      "metadata": {
        "id": "W2JDfNFIyqhp"
      },
      "execution_count": null,
      "outputs": []
    },
    {
      "cell_type": "code",
      "source": [
        "filenames = os.listdir(dir_path)\n",
        "categories = os.listdir(dir_path)\n",
        "num_classes = len(categories)"
      ],
      "metadata": {
        "id": "Uc5_wtzNysQ3"
      },
      "execution_count": null,
      "outputs": []
    },
    {
      "cell_type": "code",
      "source": [
        "image_paths = []\n",
        "labels = []"
      ],
      "metadata": {
        "id": "_EkjzD_myt8H"
      },
      "execution_count": null,
      "outputs": []
    },
    {
      "cell_type": "code",
      "source": [
        "for subdir in os.listdir(dir_path):\n",
        "  #if subdir[3:] in people50: 만약 이거 넣으면 170명안에서만 함\n",
        "    subdir_path = os.path.join(dir_path, subdir)\n",
        "    if os.path.isdir(subdir_path):\n",
        "        # 각 서브폴더에 대해 이미지 파일 순회\n",
        "        for image_file in os.listdir(subdir_path):\n",
        "            if image_file.endswith('.png'):\n",
        "                # 라벨 파일 경로 구성\n",
        "                current_json_path = os.path.join(json_path, 'TL' +subdir[2:], os.path.splitext(image_file)[0] + '.json')\n",
        "                # 라벨 파일이 존재하는 경우만 처리\n",
        "                if os.path.exists(current_json_path):\n",
        "                    # 이미지 경로 추가\n",
        "                    image_paths.append(os.path.join(subdir_path, image_file))\n",
        "                    # 라벨 데이터 로드\n",
        "                    with open(current_json_path, 'r') as f:\n",
        "                        label_data = json.load(f)\n",
        "                        labels.append(label_data)"
      ],
      "metadata": {
        "id": "0m1b-B5xywy_"
      },
      "execution_count": null,
      "outputs": []
    },
    {
      "cell_type": "code",
      "source": [
        "def corr(annotation):\n",
        "    if 'box' in annotation:\n",
        "        box_info = annotation['box']\n",
        "        x = box_info.get('x', None)\n",
        "        y = box_info.get('y', None)\n",
        "        w = box_info.get('w', None)\n",
        "        h = box_info.get('h', None)\n",
        "\n",
        "        if x is not None and y is not None and w is not None and h is not None:\n",
        "            return x, y, w, h\n",
        "\n",
        "    # If 'box' is not present or any of the values is missing, return None\n",
        "    return None\n",
        "\n",
        "# 예시 사용\n",
        "first_annotation = labels[0]['annotation'][0]\n",
        "xywh = corr(first_annotation)\n",
        "\n",
        "# 결과 출력\n",
        "print(\"xywh:\", xywh)\n"
      ],
      "metadata": {
        "id": "Hax2qSpJyyN1",
        "colab": {
          "base_uri": "https://localhost:8080/"
        },
        "outputId": "b5b91589-e990-4f6b-8c62-2c225bdd826f"
      },
      "execution_count": null,
      "outputs": [
        {
          "output_type": "stream",
          "name": "stdout",
          "text": [
            "xywh: (58.13286562848987, 134.55653744199378, 354.416862622868, 370.2751312347833)\n"
          ]
        }
      ]
    },
    {
      "cell_type": "code",
      "source": [
        "def uder10mb_image(image_path, max_size_mb=10, new_size=(200, 200)):\n",
        "    # Check the file size\n",
        "    file_size_mb = os.path.getsize(image_path) / (1024 * 1024)  # Convert to megabytes\n",
        "    if file_size_mb > max_size_mb:\n",
        "        #print(f\"Ignoring {image_path} due to its size ({file_size_mb:.2f} MB)\")\n",
        "        return\n",
        "\n",
        "    # Read the image using OpenCV\n",
        "    img = cv2.imread(image_path)\n",
        "    # Convert BGR to RGB\n",
        "    img = cv2.cvtColor(img, cv2.COLOR_BGR2RGB)\n",
        "    return img"
      ],
      "metadata": {
        "id": "BECzjEt8y5W8"
      },
      "execution_count": null,
      "outputs": []
    },
    {
      "cell_type": "code",
      "source": [
        "image_paths"
      ],
      "metadata": {
        "colab": {
          "base_uri": "https://localhost:8080/"
        },
        "id": "KcukskbWjGc2",
        "outputId": "75e79bff-c192-4509-bd64-83f2a8e5050d"
      },
      "execution_count": null,
      "outputs": [
        {
          "output_type": "execute_result",
          "data": {
            "text/plain": [
              "['/content/drive/MyDrive/딥러닝 팀플/data/일부 데이터/Training/01.원천데이터/TS_0224/0224_1984_24_00000023_D.png',\n",
              " '/content/drive/MyDrive/딥러닝 팀플/data/일부 데이터/Training/01.원천데이터/TS_0224/0224_1984_07_00000005_F.png',\n",
              " '/content/drive/MyDrive/딥러닝 팀플/data/일부 데이터/Training/01.원천데이터/TS_0224/0224_1984_12_00000010_F.png',\n",
              " '/content/drive/MyDrive/딥러닝 팀플/data/일부 데이터/Training/01.원천데이터/TS_0224/0224_1984_01_00000002_F.png',\n",
              " '/content/drive/MyDrive/딥러닝 팀플/data/일부 데이터/Training/01.원천데이터/TS_0224/0224_1984_01_00000001_F.png',\n",
              " '/content/drive/MyDrive/딥러닝 팀플/data/일부 데이터/Training/01.원천데이터/TS_0224/0224_1984_32_00000035_D.png',\n",
              " '/content/drive/MyDrive/딥러닝 팀플/data/일부 데이터/Training/01.원천데이터/TS_0224/0224_1984_30_00000031_D.png',\n",
              " '/content/drive/MyDrive/딥러닝 팀플/data/일부 데이터/Training/01.원천데이터/TS_0224/0224_1984_30_00000032_D.png',\n",
              " '/content/drive/MyDrive/딥러닝 팀플/data/일부 데이터/Training/01.원천데이터/TS_0224/0224_1984_34_00000039_D.png',\n",
              " '/content/drive/MyDrive/딥러닝 팀플/data/일부 데이터/Training/01.원천데이터/TS_0224/0224_1984_24_00000024_D.png',\n",
              " '/content/drive/MyDrive/딥러닝 팀플/data/일부 데이터/Training/01.원천데이터/TS_0224/0224_1984_36_00000041_D.png',\n",
              " '/content/drive/MyDrive/딥러닝 팀플/data/일부 데이터/Training/01.원천데이터/TS_0224/0224_1984_38_00000047_D.png',\n",
              " '/content/drive/MyDrive/딥러닝 팀플/data/일부 데이터/Training/01.원천데이터/TS_0224/0224_1984_10_00000007_F.png',\n",
              " '/content/drive/MyDrive/딥러닝 팀플/data/일부 데이터/Training/01.원천데이터/TS_0224/0224_1984_02_00000003_F.png',\n",
              " '/content/drive/MyDrive/딥러닝 팀플/data/일부 데이터/Training/01.원천데이터/TS_0224/0224_1984_31_00000033_D.png',\n",
              " '/content/drive/MyDrive/딥러닝 팀플/data/일부 데이터/Training/01.원천데이터/TS_0224/0224_1984_32_00000036_D.png',\n",
              " '/content/drive/MyDrive/딥러닝 팀플/data/일부 데이터/Training/01.원천데이터/TS_0224/0224_1984_19_00000020_F.png',\n",
              " '/content/drive/MyDrive/딥러닝 팀플/data/일부 데이터/Training/01.원천데이터/TS_0224/0224_1984_17_00000016_F.png',\n",
              " '/content/drive/MyDrive/딥러닝 팀플/data/일부 데이터/Training/01.원천데이터/TS_0224/0224_1984_07_00000006_F.png',\n",
              " '/content/drive/MyDrive/딥러닝 팀플/data/일부 데이터/Training/01.원천데이터/TS_0224/0224_1984_13_00000012_F.png',\n",
              " '/content/drive/MyDrive/딥러닝 팀플/data/일부 데이터/Training/01.원천데이터/TS_0224/0224_1984_36_00000040_D.png',\n",
              " '/content/drive/MyDrive/딥러닝 팀플/data/일부 데이터/Training/01.원천데이터/TS_0224/0224_1984_37_00000044_D.png',\n",
              " '/content/drive/MyDrive/딥러닝 팀플/data/일부 데이터/Training/01.원천데이터/TS_0224/0224_1984_27_00000027_D.png',\n",
              " '/content/drive/MyDrive/딥러닝 팀플/data/일부 데이터/Training/01.원천데이터/TS_0224/0224_1984_17_00000015_F.png',\n",
              " '/content/drive/MyDrive/딥러닝 팀플/data/일부 데이터/Training/01.원천데이터/TS_0224/0224_1984_37_00000045_D.png',\n",
              " '/content/drive/MyDrive/딥러닝 팀플/data/일부 데이터/Training/01.원천데이터/TS_0224/0224_1984_29_00000030_D.png',\n",
              " '/content/drive/MyDrive/딥러닝 팀플/data/일부 데이터/Training/01.원천데이터/TS_0224/0224_1984_37_00000043_D.png',\n",
              " '/content/drive/MyDrive/딥러닝 팀플/data/일부 데이터/Training/01.원천데이터/TS_0224/0224_1984_31_00000034_D.png',\n",
              " '/content/drive/MyDrive/딥러닝 팀플/data/일부 데이터/Training/01.원천데이터/TS_0224/0224_1984_28_00000029_D.png',\n",
              " '/content/drive/MyDrive/딥러닝 팀플/data/일부 데이터/Training/01.원천데이터/TS_0224/0224_1984_39_00000050_D.png',\n",
              " '/content/drive/MyDrive/딥러닝 팀플/data/일부 데이터/Training/01.원천데이터/TS_0224/0224_1984_16_00000014_F.png',\n",
              " '/content/drive/MyDrive/딥러닝 팀플/data/일부 데이터/Training/01.원천데이터/TS_0224/0224_1984_11_00000009_F.png',\n",
              " '/content/drive/MyDrive/딥러닝 팀플/data/일부 데이터/Training/01.원천데이터/TS_0224/0224_1984_26_00000026_D.png',\n",
              " '/content/drive/MyDrive/딥러닝 팀플/data/일부 데이터/Training/01.원천데이터/TS_0224/0224_1984_36_00000042_D.png',\n",
              " '/content/drive/MyDrive/딥러닝 팀플/data/일부 데이터/Training/01.원천데이터/TS_0224/0224_1984_39_00000049_D.png',\n",
              " '/content/drive/MyDrive/딥러닝 팀플/data/일부 데이터/Training/01.원천데이터/TS_0224/0224_1984_20_00000021_D.png',\n",
              " '/content/drive/MyDrive/딥러닝 팀플/data/일부 데이터/Training/01.원천데이터/TS_0224/0224_1984_38_00000048_D.png',\n",
              " '/content/drive/MyDrive/딥러닝 팀플/data/일부 데이터/Training/01.원천데이터/TS_0224/0224_1984_13_00000011_F.png',\n",
              " '/content/drive/MyDrive/딥러닝 팀플/data/일부 데이터/Training/01.원천데이터/TS_0224/0224_1984_18_00000019_F.png',\n",
              " '/content/drive/MyDrive/딥러닝 팀플/data/일부 데이터/Training/01.원천데이터/TS_0224/0224_1984_28_00000028_D.png',\n",
              " '/content/drive/MyDrive/딥러닝 팀플/data/일부 데이터/Training/01.원천데이터/TS_0224/0224_1984_10_00000008_F.png',\n",
              " '/content/drive/MyDrive/딥러닝 팀플/data/일부 데이터/Training/01.원천데이터/TS_0224/0224_1984_33_00000038_D.png',\n",
              " '/content/drive/MyDrive/딥러닝 팀플/data/일부 데이터/Training/01.원천데이터/TS_0224/0224_1984_26_00000025_D.png',\n",
              " '/content/drive/MyDrive/딥러닝 팀플/data/일부 데이터/Training/01.원천데이터/TS_0224/0224_1984_18_00000017_F.png',\n",
              " '/content/drive/MyDrive/딥러닝 팀플/data/일부 데이터/Training/01.원천데이터/TS_0224/0224_1984_18_00000018_F.png',\n",
              " '/content/drive/MyDrive/딥러닝 팀플/data/일부 데이터/Training/01.원천데이터/TS_0224/0224_1984_37_00000046_D.png',\n",
              " '/content/drive/MyDrive/딥러닝 팀플/data/일부 데이터/Training/01.원천데이터/TS_0224/0224_1984_16_00000013_F.png',\n",
              " '/content/drive/MyDrive/딥러닝 팀플/data/일부 데이터/Training/01.원천데이터/TS_0224/0224_1984_06_00000004_F.png',\n",
              " '/content/drive/MyDrive/딥러닝 팀플/data/일부 데이터/Training/01.원천데이터/TS_0224/0224_1984_33_00000037_D.png',\n",
              " '/content/drive/MyDrive/딥러닝 팀플/data/일부 데이터/Training/01.원천데이터/TS_0224/0224_1984_23_00000022_D.png',\n",
              " '/content/drive/MyDrive/딥러닝 팀플/data/일부 데이터/Training/01.원천데이터/TS_0422/0422_1977_06_00000004_F.png',\n",
              " '/content/drive/MyDrive/딥러닝 팀플/data/일부 데이터/Training/01.원천데이터/TS_0422/0422_1977_28_00000029_F.png',\n",
              " '/content/drive/MyDrive/딥러닝 팀플/data/일부 데이터/Training/01.원천데이터/TS_0422/0422_1977_26_00000026_F.png',\n",
              " '/content/drive/MyDrive/딥러닝 팀플/data/일부 데이터/Training/01.원천데이터/TS_0422/0422_1977_10_00000010_F.png',\n",
              " '/content/drive/MyDrive/딥러닝 팀플/data/일부 데이터/Training/01.원천데이터/TS_0422/0422_1977_42_00000046_F.png',\n",
              " '/content/drive/MyDrive/딥러닝 팀플/data/일부 데이터/Training/01.원천데이터/TS_0422/0422_1977_31_00000034_F.png',\n",
              " '/content/drive/MyDrive/딥러닝 팀플/data/일부 데이터/Training/01.원천데이터/TS_0422/0422_1977_08_00000007_F.png',\n",
              " '/content/drive/MyDrive/딥러닝 팀플/data/일부 데이터/Training/01.원천데이터/TS_0422/0422_1977_07_00000006_F.png',\n",
              " '/content/drive/MyDrive/딥러닝 팀플/data/일부 데이터/Training/01.원천데이터/TS_0422/0422_1977_39_00000043_F.png',\n",
              " '/content/drive/MyDrive/딥러닝 팀플/data/일부 데이터/Training/01.원천데이터/TS_0422/0422_1977_45_00000048_D.png',\n",
              " '/content/drive/MyDrive/딥러닝 팀플/data/일부 데이터/Training/01.원천데이터/TS_0422/0422_1977_01_00000001_F.png',\n",
              " '/content/drive/MyDrive/딥러닝 팀플/data/일부 데이터/Training/01.원천데이터/TS_0422/0422_1977_10_00000009_F.png',\n",
              " '/content/drive/MyDrive/딥러닝 팀플/data/일부 데이터/Training/01.원천데이터/TS_0422/0422_1977_23_00000024_F.png',\n",
              " '/content/drive/MyDrive/딥러닝 팀플/data/일부 데이터/Training/01.원천데이터/TS_0422/0422_1977_33_00000037_F.png',\n",
              " '/content/drive/MyDrive/딥러닝 팀플/data/일부 데이터/Training/01.원천데이터/TS_0422/0422_1977_17_00000016_F.png',\n",
              " '/content/drive/MyDrive/딥러닝 팀플/data/일부 데이터/Training/01.원천데이터/TS_0422/0422_1977_27_00000027_F.png',\n",
              " '/content/drive/MyDrive/딥러닝 팀플/data/일부 데이터/Training/01.원천데이터/TS_0422/0422_1977_41_00000044_F.png',\n",
              " '/content/drive/MyDrive/딥러닝 팀플/data/일부 데이터/Training/01.원천데이터/TS_0422/0422_1977_22_00000023_F.png',\n",
              " '/content/drive/MyDrive/딥러닝 팀플/data/일부 데이터/Training/01.원천데이터/TS_0422/0422_1977_16_00000014_F.png',\n",
              " '/content/drive/MyDrive/딥러닝 팀플/data/일부 데이터/Training/01.원천데이터/TS_0422/0422_1977_29_00000032_F.png',\n",
              " '/content/drive/MyDrive/딥러닝 팀플/data/일부 데이터/Training/01.원천데이터/TS_0422/0422_1977_39_00000042_F.png',\n",
              " '/content/drive/MyDrive/딥러닝 팀플/data/일부 데이터/Training/01.원천데이터/TS_0422/0422_1977_45_00000049_D.png',\n",
              " '/content/drive/MyDrive/딥러닝 팀플/data/일부 데이터/Training/01.원천데이터/TS_0422/0422_1977_21_00000021_F.png',\n",
              " '/content/drive/MyDrive/딥러닝 팀플/data/일부 데이터/Training/01.원천데이터/TS_0422/0422_1977_07_00000005_F.png',\n",
              " '/content/drive/MyDrive/딥러닝 팀플/data/일부 데이터/Training/01.원천데이터/TS_0422/0422_1977_16_00000015_F.png',\n",
              " '/content/drive/MyDrive/딥러닝 팀플/data/일부 데이터/Training/01.원천데이터/TS_0422/0422_1977_13_00000013_F.png',\n",
              " '/content/drive/MyDrive/딥러닝 팀플/data/일부 데이터/Training/01.원천데이터/TS_0422/0422_1977_28_00000028_F.png',\n",
              " '/content/drive/MyDrive/딥러닝 팀플/data/일부 데이터/Training/01.원천데이터/TS_0422/0422_1977_18_00000019_F.png',\n",
              " '/content/drive/MyDrive/딥러닝 팀플/data/일부 데이터/Training/01.원천데이터/TS_0422/0422_1977_34_00000038_F.png',\n",
              " '/content/drive/MyDrive/딥러닝 팀플/data/일부 데이터/Training/01.원천데이터/TS_0422/0422_1977_08_00000008_F.png',\n",
              " '/content/drive/MyDrive/딥러닝 팀플/data/일부 데이터/Training/01.원천데이터/TS_0422/0422_1977_43_00000047_D.png',\n",
              " '/content/drive/MyDrive/딥러닝 팀플/data/일부 데이터/Training/01.원천데이터/TS_0422/0422_1977_36_00000039_F.png',\n",
              " '/content/drive/MyDrive/딥러닝 팀플/data/일부 데이터/Training/01.원천데이터/TS_0422/0422_1977_02_00000002_F.png',\n",
              " '/content/drive/MyDrive/딥러닝 팀플/data/일부 데이터/Training/01.원천데이터/TS_0422/0422_1977_38_00000041_F.png',\n",
              " '/content/drive/MyDrive/딥러닝 팀플/data/일부 데이터/Training/01.원천데이터/TS_0422/0422_1977_28_00000030_F.png',\n",
              " '/content/drive/MyDrive/딥러닝 팀플/data/일부 데이터/Training/01.원천데이터/TS_0422/0422_1977_46_00000050_D.png',\n",
              " '/content/drive/MyDrive/딥러닝 팀플/data/일부 데이터/Training/01.원천데이터/TS_0422/0422_1977_19_00000020_F.png',\n",
              " '/content/drive/MyDrive/딥러닝 팀플/data/일부 데이터/Training/01.원천데이터/TS_0422/0422_1977_31_00000033_F.png',\n",
              " '/content/drive/MyDrive/딥러닝 팀플/data/일부 데이터/Training/01.원천데이터/TS_0422/0422_1977_28_00000031_F.png',\n",
              " '/content/drive/MyDrive/딥러닝 팀플/data/일부 데이터/Training/01.원천데이터/TS_0422/0422_1977_37_00000040_F.png',\n",
              " '/content/drive/MyDrive/딥러닝 팀플/data/일부 데이터/Training/01.원천데이터/TS_0422/0422_1977_32_00000036_F.png',\n",
              " '/content/drive/MyDrive/딥러닝 팀플/data/일부 데이터/Training/01.원천데이터/TS_0422/0422_1977_12_00000012_F.png',\n",
              " '/content/drive/MyDrive/딥러닝 팀플/data/일부 데이터/Training/01.원천데이터/TS_0422/0422_1977_42_00000045_F.png',\n",
              " '/content/drive/MyDrive/딥러닝 팀플/data/일부 데이터/Training/01.원천데이터/TS_0422/0422_1977_11_00000011_F.png',\n",
              " '/content/drive/MyDrive/딥러닝 팀플/data/일부 데이터/Training/01.원천데이터/TS_0422/0422_1977_17_00000017_F.png',\n",
              " '/content/drive/MyDrive/딥러닝 팀플/data/일부 데이터/Training/01.원천데이터/TS_0422/0422_1977_22_00000022_F.png',\n",
              " '/content/drive/MyDrive/딥러닝 팀플/data/일부 데이터/Training/01.원천데이터/TS_0422/0422_1977_25_00000025_F.png',\n",
              " '/content/drive/MyDrive/딥러닝 팀플/data/일부 데이터/Training/01.원천데이터/TS_0422/0422_1977_32_00000035_F.png',\n",
              " '/content/drive/MyDrive/딥러닝 팀플/data/일부 데이터/Training/01.원천데이터/TS_0422/0422_1977_04_00000003_F.png',\n",
              " '/content/drive/MyDrive/딥러닝 팀플/data/일부 데이터/Training/01.원천데이터/TS_0422/0422_1977_18_00000018_F.png',\n",
              " '/content/drive/MyDrive/딥러닝 팀플/data/일부 데이터/Training/01.원천데이터/TS_0082/0082_1999_07_00000022_F.png',\n",
              " '/content/drive/MyDrive/딥러닝 팀플/data/일부 데이터/Training/01.원천데이터/TS_0082/0082_1999_01_00000003_F.png',\n",
              " '/content/drive/MyDrive/딥러닝 팀플/data/일부 데이터/Training/01.원천데이터/TS_0082/0082_1999_08_00000024_F.png',\n",
              " '/content/drive/MyDrive/딥러닝 팀플/data/일부 데이터/Training/01.원천데이터/TS_0082/0082_1999_20_00000049_D.png',\n",
              " '/content/drive/MyDrive/딥러닝 팀플/data/일부 데이터/Training/01.원천데이터/TS_0082/0082_1999_02_00000004_F.png',\n",
              " '/content/drive/MyDrive/딥러닝 팀플/data/일부 데이터/Training/01.원천데이터/TS_0082/0082_1999_01_00000002_F.png',\n",
              " '/content/drive/MyDrive/딥러닝 팀플/data/일부 데이터/Training/01.원천데이터/TS_0082/0082_1999_10_00000026_F.png',\n",
              " '/content/drive/MyDrive/딥러닝 팀플/data/일부 데이터/Training/01.원천데이터/TS_0082/0082_1999_07_00000018_F.png',\n",
              " '/content/drive/MyDrive/딥러닝 팀플/data/일부 데이터/Training/01.원천데이터/TS_0082/0082_1999_24_00000060_D.png',\n",
              " '/content/drive/MyDrive/딥러닝 팀플/data/일부 데이터/Training/01.원천데이터/TS_0082/0082_1999_17_00000042_D.png',\n",
              " '/content/drive/MyDrive/딥러닝 팀플/data/일부 데이터/Training/01.원천데이터/TS_0082/0082_1999_11_00000027_F.png',\n",
              " '/content/drive/MyDrive/딥러닝 팀플/data/일부 데이터/Training/01.원천데이터/TS_0082/0082_1999_07_00000019_F.png',\n",
              " '/content/drive/MyDrive/딥러닝 팀플/data/일부 데이터/Training/01.원천데이터/TS_0082/0082_1999_06_00000014_F.png',\n",
              " '/content/drive/MyDrive/딥러닝 팀플/data/일부 데이터/Training/01.원천데이터/TS_0082/0082_1999_13_00000032_F.png',\n",
              " '/content/drive/MyDrive/딥러닝 팀플/data/일부 데이터/Training/01.원천데이터/TS_0082/0082_1999_11_00000029_F.png',\n",
              " '/content/drive/MyDrive/딥러닝 팀플/data/일부 데이터/Training/01.원천데이터/TS_0082/0082_1999_17_00000035_D.png',\n",
              " '/content/drive/MyDrive/딥러닝 팀플/data/일부 데이터/Training/01.원천데이터/TS_0082/0082_1999_02_00000005_F.png',\n",
              " '/content/drive/MyDrive/딥러닝 팀플/data/일부 데이터/Training/01.원천데이터/TS_0082/0082_1999_17_00000036_D.png',\n",
              " '/content/drive/MyDrive/딥러닝 팀플/data/일부 데이터/Training/01.원천데이터/TS_0082/0082_1999_18_00000047_D.png',\n",
              " '/content/drive/MyDrive/딥러닝 팀플/data/일부 데이터/Training/01.원천데이터/TS_0082/0082_1999_13_00000031_F.png',\n",
              " '/content/drive/MyDrive/딥러닝 팀플/data/일부 데이터/Training/01.원천데이터/TS_0082/0082_1999_12_00000030_F.png',\n",
              " '/content/drive/MyDrive/딥러닝 팀플/data/일부 데이터/Training/01.원천데이터/TS_0082/0082_1999_22_00000058_D.png',\n",
              " '/content/drive/MyDrive/딥러닝 팀플/data/일부 데이터/Training/01.원천데이터/TS_0082/0082_1999_06_00000016_F.png',\n",
              " '/content/drive/MyDrive/딥러닝 팀플/data/일부 데이터/Training/01.원천데이터/TS_0082/0082_1999_17_00000034_D.png',\n",
              " '/content/drive/MyDrive/딥러닝 팀플/data/일부 데이터/Training/01.원천데이터/TS_0082/0082_1999_19_00000048_D.png',\n",
              " '/content/drive/MyDrive/딥러닝 팀플/data/일부 데이터/Training/01.원천데이터/TS_0082/0082_1999_17_00000037_D.png',\n",
              " '/content/drive/MyDrive/딥러닝 팀플/data/일부 데이터/Training/01.원천데이터/TS_0082/0082_1999_17_00000039_D.png',\n",
              " '/content/drive/MyDrive/딥러닝 팀플/data/일부 데이터/Training/01.원천데이터/TS_0082/0082_1999_22_00000054_D.png',\n",
              " '/content/drive/MyDrive/딥러닝 팀플/data/일부 데이터/Training/01.원천데이터/TS_0082/0082_1999_17_00000040_D.png',\n",
              " '/content/drive/MyDrive/딥러닝 팀플/data/일부 데이터/Training/01.원천데이터/TS_0082/0082_1999_04_00000009_F.png',\n",
              " '/content/drive/MyDrive/딥러닝 팀플/data/일부 데이터/Training/01.원천데이터/TS_0082/0082_1999_05_00000012_F.png',\n",
              " '/content/drive/MyDrive/딥러닝 팀플/data/일부 데이터/Training/01.원천데이터/TS_0082/0082_1999_21_00000051_D.png',\n",
              " '/content/drive/MyDrive/딥러닝 팀플/data/일부 데이터/Training/01.원천데이터/TS_0082/0082_1999_21_00000050_D.png',\n",
              " '/content/drive/MyDrive/딥러닝 팀플/data/일부 데이터/Training/01.원천데이터/TS_0082/0082_1999_17_00000038_D.png',\n",
              " '/content/drive/MyDrive/딥러닝 팀플/data/일부 데이터/Training/01.원천데이터/TS_0082/0082_1999_17_00000041_D.png',\n",
              " '/content/drive/MyDrive/딥러닝 팀플/data/일부 데이터/Training/01.원천데이터/TS_0082/0082_1999_15_00000033_D.png',\n",
              " '/content/drive/MyDrive/딥러닝 팀플/data/일부 데이터/Training/01.원천데이터/TS_0082/0082_1999_07_00000023_F.png',\n",
              " '/content/drive/MyDrive/딥러닝 팀플/data/일부 데이터/Training/01.원천데이터/TS_0082/0082_1999_18_00000044_D.png',\n",
              " '/content/drive/MyDrive/딥러닝 팀플/data/일부 데이터/Training/01.원천데이터/TS_0082/0082_1999_21_00000052_D.png',\n",
              " '/content/drive/MyDrive/딥러닝 팀플/data/일부 데이터/Training/01.원천데이터/TS_0082/0082_1999_10_00000025_F.png',\n",
              " '/content/drive/MyDrive/딥러닝 팀플/data/일부 데이터/Training/01.원천데이터/TS_0082/0082_1999_06_00000017_F.png',\n",
              " '/content/drive/MyDrive/딥러닝 팀플/data/일부 데이터/Training/01.원천데이터/TS_0082/0082_1999_22_00000053_D.png',\n",
              " '/content/drive/MyDrive/딥러닝 팀플/data/일부 데이터/Training/01.원천데이터/TS_0082/0082_1999_22_00000055_D.png',\n",
              " '/content/drive/MyDrive/딥러닝 팀플/data/일부 데이터/Training/01.원천데이터/TS_0082/0082_1999_04_00000010_F.png',\n",
              " '/content/drive/MyDrive/딥러닝 팀플/data/일부 데이터/Training/01.원천데이터/TS_0082/0082_1999_18_00000045_D.png',\n",
              " '/content/drive/MyDrive/딥러닝 팀플/data/일부 데이터/Training/01.원천데이터/TS_0082/0082_1999_05_00000011_F.png',\n",
              " '/content/drive/MyDrive/딥러닝 팀플/data/일부 데이터/Training/01.원천데이터/TS_0082/0082_1999_06_00000015_F.png',\n",
              " '/content/drive/MyDrive/딥러닝 팀플/data/일부 데이터/Training/01.원천데이터/TS_0082/0082_1999_07_00000020_F.png',\n",
              " '/content/drive/MyDrive/딥러닝 팀플/data/일부 데이터/Training/01.원천데이터/TS_0082/0082_1999_22_00000057_D.png',\n",
              " '/content/drive/MyDrive/딥러닝 팀플/data/일부 데이터/Training/01.원천데이터/TS_0082/0082_1999_11_00000028_F.png',\n",
              " '/content/drive/MyDrive/딥러닝 팀플/data/일부 데이터/Training/01.원천데이터/TS_0305/0305_1972_22_00000011_F.png',\n",
              " '/content/drive/MyDrive/딥러닝 팀플/data/일부 데이터/Training/01.원천데이터/TS_0305/0305_1972_24_00000013_F.png',\n",
              " '/content/drive/MyDrive/딥러닝 팀플/data/일부 데이터/Training/01.원천데이터/TS_0305/0305_1972_10_00000001_F.png',\n",
              " '/content/drive/MyDrive/딥러닝 팀플/data/일부 데이터/Training/01.원천데이터/TS_0305/0305_1972_19_00000006_F.png',\n",
              " '/content/drive/MyDrive/딥러닝 팀플/data/일부 데이터/Training/01.원천데이터/TS_0305/0305_1972_33_00000017_D.png',\n",
              " '/content/drive/MyDrive/딥러닝 팀플/data/일부 데이터/Training/01.원천데이터/TS_0305/0305_1972_14_00000002_F.png',\n",
              " '/content/drive/MyDrive/딥러닝 팀플/data/일부 데이터/Training/01.원천데이터/TS_0305/0305_1972_50_00000041_D.png',\n",
              " '/content/drive/MyDrive/딥러닝 팀플/data/일부 데이터/Training/01.원천데이터/TS_0305/0305_1972_01_00000007_F.png',\n",
              " '/content/drive/MyDrive/딥러닝 팀플/data/일부 데이터/Training/01.원천데이터/TS_0305/0305_1972_04_00000034_F.png',\n",
              " '/content/drive/MyDrive/딥러닝 팀플/data/일부 데이터/Training/01.원천데이터/TS_0305/0305_1972_38_00000019_D.png',\n",
              " '/content/drive/MyDrive/딥러닝 팀플/data/일부 데이터/Training/01.원천데이터/TS_0305/0305_1972_16_00000003_F.png',\n",
              " '/content/drive/MyDrive/딥러닝 팀플/data/일부 데이터/Training/01.원천데이터/TS_0305/0305_1972_32_00000016_D.png',\n",
              " '/content/drive/MyDrive/딥러닝 팀플/data/일부 데이터/Training/01.원천데이터/TS_0305/0305_1972_41_00000024_D.png',\n",
              " '/content/drive/MyDrive/딥러닝 팀플/data/일부 데이터/Training/01.원천데이터/TS_0305/0305_1972_16_00000004_F.png',\n",
              " '/content/drive/MyDrive/딥러닝 팀플/data/일부 데이터/Training/01.원천데이터/TS_0305/0305_1972_50_00000038_D.png',\n",
              " '/content/drive/MyDrive/딥러닝 팀플/data/일부 데이터/Training/01.원천데이터/TS_0305/0305_1972_28_00000015_F.png',\n",
              " '/content/drive/MyDrive/딥러닝 팀플/data/일부 데이터/Training/01.원천데이터/TS_0305/0305_1972_21_00000009_F.png',\n",
              " '/content/drive/MyDrive/딥러닝 팀플/data/일부 데이터/Training/01.원천데이터/TS_0305/0305_1972_06_00000050_F.png',\n",
              " '/content/drive/MyDrive/딥러닝 팀플/data/일부 데이터/Training/01.원천데이터/TS_0305/0305_1972_21_00000010_F.png',\n",
              " '/content/drive/MyDrive/딥러닝 팀플/data/일부 데이터/Training/01.원천데이터/TS_0305/0305_1972_17_00000005_F.png',\n",
              " '/content/drive/MyDrive/딥러닝 팀플/data/일부 데이터/Training/01.원천데이터/TS_0305/0305_1972_39_00000021_D.png',\n",
              " '/content/drive/MyDrive/딥러닝 팀플/data/일부 데이터/Training/01.원천데이터/TS_0305/0305_1972_36_00000018_D.png',\n",
              " '/content/drive/MyDrive/딥러닝 팀플/data/일부 데이터/Training/01.원천데이터/TS_0305/0305_1972_39_00000022_D.png',\n",
              " '/content/drive/MyDrive/딥러닝 팀플/data/일부 데이터/Training/01.원천데이터/TS_0305/0305_1972_23_00000012_F.png',\n",
              " '/content/drive/MyDrive/딥러닝 팀플/data/일부 데이터/Training/01.원천데이터/TS_0305/0305_1972_44_00000029_D.png',\n",
              " '/content/drive/MyDrive/딥러닝 팀플/data/일부 데이터/Training/01.원천데이터/TS_0305/0305_1972_50_00000036_D.png',\n",
              " '/content/drive/MyDrive/딥러닝 팀플/data/일부 데이터/Training/01.원천데이터/TS_0305/0305_1972_21_00000008_F.png',\n",
              " '/content/drive/MyDrive/딥러닝 팀플/data/일부 데이터/Training/01.원천데이터/TS_0305/0305_1972_26_00000014_F.png',\n",
              " '/content/drive/MyDrive/딥러닝 팀플/data/일부 데이터/Training/01.원천데이터/TS_0305/0305_1972_51_00000046_D.png',\n",
              " '/content/drive/MyDrive/딥러닝 팀플/data/일부 데이터/Training/01.원천데이터/TS_0305/0305_1972_51_00000045_D.png',\n",
              " '/content/drive/MyDrive/딥러닝 팀플/data/일부 데이터/Training/01.원천데이터/TS_0305/0305_1972_40_00000023_D.png',\n",
              " '/content/drive/MyDrive/딥러닝 팀플/data/일부 데이터/Training/01.원천데이터/TS_0305/0305_1972_51_00000048_D.png',\n",
              " '/content/drive/MyDrive/딥러닝 팀플/data/일부 데이터/Training/01.원천데이터/TS_0305/0305_1972_50_00000037_D.png',\n",
              " '/content/drive/MyDrive/딥러닝 팀플/data/일부 데이터/Training/01.원천데이터/TS_0305/0305_1972_50_00000039_D.png',\n",
              " '/content/drive/MyDrive/딥러닝 팀플/data/일부 데이터/Training/01.원천데이터/TS_0305/0305_1972_46_00000030_D.png',\n",
              " '/content/drive/MyDrive/딥러닝 팀플/data/일부 데이터/Training/01.원천데이터/TS_0305/0305_1972_51_00000044_D.png',\n",
              " '/content/drive/MyDrive/딥러닝 팀플/data/일부 데이터/Training/01.원천데이터/TS_0305/0305_1972_51_00000043_D.png',\n",
              " '/content/drive/MyDrive/딥러닝 팀플/data/일부 데이터/Training/01.원천데이터/TS_0305/0305_1972_38_00000020_D.png',\n",
              " '/content/drive/MyDrive/딥러닝 팀플/data/일부 데이터/Training/01.원천데이터/TS_0305/0305_1972_51_00000047_D.png',\n",
              " '/content/drive/MyDrive/딥러닝 팀플/data/일부 데이터/Training/01.원천데이터/TS_0305/0305_1972_50_00000035_D.png',\n",
              " '/content/drive/MyDrive/딥러닝 팀플/data/일부 데이터/Training/01.원천데이터/TS_0305/0305_1972_46_00000031_D.png',\n",
              " '/content/drive/MyDrive/딥러닝 팀플/data/일부 데이터/Training/01.원천데이터/TS_0305/0305_1972_48_00000033_D.png',\n",
              " '/content/drive/MyDrive/딥러닝 팀플/data/일부 데이터/Training/01.원천데이터/TS_0305/0305_1972_47_00000032_D.png',\n",
              " '/content/drive/MyDrive/딥러닝 팀플/data/일부 데이터/Training/01.원천데이터/TS_0305/0305_1972_43_00000028_D.png',\n",
              " '/content/drive/MyDrive/딥러닝 팀플/data/일부 데이터/Training/01.원천데이터/TS_0305/0305_1972_51_00000049_D.png',\n",
              " '/content/drive/MyDrive/딥러닝 팀플/data/일부 데이터/Training/01.원천데이터/TS_0305/0305_1972_50_00000040_D.png',\n",
              " '/content/drive/MyDrive/딥러닝 팀플/data/일부 데이터/Training/01.원천데이터/TS_0305/0305_1972_51_00000042_D.png',\n",
              " '/content/drive/MyDrive/딥러닝 팀플/data/일부 데이터/Training/01.원천데이터/TS_0305/0305_1972_41_00000026_D.png',\n",
              " '/content/drive/MyDrive/딥러닝 팀플/data/일부 데이터/Training/01.원천데이터/TS_0305/0305_1972_42_00000027_D.png',\n",
              " '/content/drive/MyDrive/딥러닝 팀플/data/일부 데이터/Training/01.원천데이터/TS_0305/0305_1972_41_00000025_D.png',\n",
              " '/content/drive/MyDrive/딥러닝 팀플/data/일부 데이터/Training/01.원천데이터/TS_0015/0015_1964_16_00000005_F.png',\n",
              " '/content/drive/MyDrive/딥러닝 팀플/data/일부 데이터/Training/01.원천데이터/TS_0015/0015_1964_23_00000014_F.png',\n",
              " '/content/drive/MyDrive/딥러닝 팀플/data/일부 데이터/Training/01.원천데이터/TS_0015/0015_1964_24_00000015_F.png',\n",
              " '/content/drive/MyDrive/딥러닝 팀플/data/일부 데이터/Training/01.원천데이터/TS_0015/0015_1964_25_00000017_F.png',\n",
              " '/content/drive/MyDrive/딥러닝 팀플/data/일부 데이터/Training/01.원천데이터/TS_0015/0015_1964_17_00000007_F.png',\n",
              " '/content/drive/MyDrive/딥러닝 팀플/data/일부 데이터/Training/01.원천데이터/TS_0015/0015_1964_01_00000001_F.png',\n",
              " '/content/drive/MyDrive/딥러닝 팀플/data/일부 데이터/Training/01.원천데이터/TS_0015/0015_1964_05_00000002_F.png',\n",
              " '/content/drive/MyDrive/딥러닝 팀플/data/일부 데이터/Training/01.원천데이터/TS_0015/0015_1964_18_00000008_F.png',\n",
              " '/content/drive/MyDrive/딥러닝 팀플/data/일부 데이터/Training/01.원천데이터/TS_0015/0015_1964_18_00000009_F.png',\n",
              " '/content/drive/MyDrive/딥러닝 팀플/data/일부 데이터/Training/01.원천데이터/TS_0015/0015_1964_58_00000058_D.png',\n",
              " '/content/drive/MyDrive/딥러닝 팀플/data/일부 데이터/Training/01.원천데이터/TS_0015/0015_1964_37_00000031_D.png',\n",
              " '/content/drive/MyDrive/딥러닝 팀플/data/일부 데이터/Training/01.원천데이터/TS_0015/0015_1964_52_00000047_D.png',\n",
              " '/content/drive/MyDrive/딥러닝 팀플/data/일부 데이터/Training/01.원천데이터/TS_0015/0015_1964_34_00000026_F.png',\n",
              " '/content/drive/MyDrive/딥러닝 팀플/data/일부 데이터/Training/01.원천데이터/TS_0015/0015_1964_55_00000052_D.png',\n",
              " '/content/drive/MyDrive/딥러닝 팀플/data/일부 데이터/Training/01.원천데이터/TS_0015/0015_1964_56_00000053_D.png',\n",
              " '/content/drive/MyDrive/딥러닝 팀플/data/일부 데이터/Training/01.원천데이터/TS_0015/0015_1964_51_00000045_D.png',\n",
              " '/content/drive/MyDrive/딥러닝 팀플/data/일부 데이터/Training/01.원천데이터/TS_0015/0015_1964_42_00000036_D.png',\n",
              " '/content/drive/MyDrive/딥러닝 팀플/data/일부 데이터/Training/01.원천데이터/TS_0015/0015_1964_59_00000059_D.png',\n",
              " '/content/drive/MyDrive/딥러닝 팀플/data/일부 데이터/Training/01.원천데이터/TS_0015/0015_1964_27_00000019_F.png',\n",
              " '/content/drive/MyDrive/딥러닝 팀플/data/일부 데이터/Training/01.원천데이터/TS_0015/0015_1964_32_00000024_F.png',\n",
              " '/content/drive/MyDrive/딥러닝 팀플/data/일부 데이터/Training/01.원천데이터/TS_0015/0015_1964_44_00000039_D.png',\n",
              " '/content/drive/MyDrive/딥러닝 팀플/data/일부 데이터/Training/01.원천데이터/TS_0015/0015_1964_53_00000051_D.png',\n",
              " '/content/drive/MyDrive/딥러닝 팀플/data/일부 데이터/Training/01.원천데이터/TS_0015/0015_1964_33_00000025_F.png',\n",
              " '/content/drive/MyDrive/딥러닝 팀플/data/일부 데이터/Training/01.원천데이터/TS_0015/0015_1964_58_00000056_D.png',\n",
              " '/content/drive/MyDrive/딥러닝 팀플/data/일부 데이터/Training/01.원천데이터/TS_0015/0015_1964_36_00000028_F.png',\n",
              " '/content/drive/MyDrive/딥러닝 팀플/data/일부 데이터/Training/01.원천데이터/TS_0015/0015_1964_57_00000054_D.png',\n",
              " '/content/drive/MyDrive/딥러닝 팀플/data/일부 데이터/Training/01.원천데이터/TS_0015/0015_1964_51_00000046_D.png',\n",
              " '/content/drive/MyDrive/딥러닝 팀플/data/일부 데이터/Training/01.원천데이터/TS_0015/0015_1964_43_00000037_D.png',\n",
              " '/content/drive/MyDrive/딥러닝 팀플/data/일부 데이터/Training/01.원천데이터/TS_0015/0015_1964_57_00000055_D.png',\n",
              " '/content/drive/MyDrive/딥러닝 팀플/data/일부 데이터/Training/01.원천데이터/TS_0015/0015_1964_52_00000048_D.png',\n",
              " '/content/drive/MyDrive/딥러닝 팀플/data/일부 데이터/Training/01.원천데이터/TS_0015/0015_1964_53_00000050_D.png',\n",
              " '/content/drive/MyDrive/딥러닝 팀플/data/일부 데이터/Training/01.원천데이터/TS_0015/0015_1964_40_00000033_F.png',\n",
              " '/content/drive/MyDrive/딥러닝 팀플/data/일부 데이터/Training/01.원천데이터/TS_0015/0015_1964_20_00000013_F.png',\n",
              " '/content/drive/MyDrive/딥러닝 팀플/data/일부 데이터/Training/01.원천데이터/TS_0015/0015_1964_50_00000043_D.png',\n",
              " '/content/drive/MyDrive/딥러닝 팀플/data/일부 데이터/Training/01.원천데이터/TS_0015/0015_1964_44_00000038_D.png',\n",
              " '/content/drive/MyDrive/딥러닝 팀플/data/일부 데이터/Training/01.원천데이터/TS_0015/0015_1964_24_00000016_F.png',\n",
              " '/content/drive/MyDrive/딥러닝 팀플/data/일부 데이터/Training/01.원천데이터/TS_0015/0015_1964_35_00000027_F.png',\n",
              " '/content/drive/MyDrive/딥러닝 팀플/data/일부 데이터/Training/01.원천데이터/TS_0015/0015_1964_36_00000029_F.png',\n",
              " '/content/drive/MyDrive/딥러닝 팀플/data/일부 데이터/Training/01.원천데이터/TS_0015/0015_1964_29_00000020_F.png',\n",
              " '/content/drive/MyDrive/딥러닝 팀플/data/일부 데이터/Training/01.원천데이터/TS_0015/0015_1964_19_00000010_F.png',\n",
              " '/content/drive/MyDrive/딥러닝 팀플/data/일부 데이터/Training/01.원천데이터/TS_0015/0015_1964_27_00000018_F.png',\n",
              " '/content/drive/MyDrive/딥러닝 팀플/data/일부 데이터/Training/01.원천데이터/TS_0015/0015_1964_32_00000023_F.png',\n",
              " '/content/drive/MyDrive/딥러닝 팀플/data/일부 데이터/Training/01.원천데이터/TS_0015/0015_1964_40_00000032_D.png',\n",
              " '/content/drive/MyDrive/딥러닝 팀플/data/일부 데이터/Training/01.원천데이터/TS_0015/0015_1964_52_00000049_D.png',\n",
              " '/content/drive/MyDrive/딥러닝 팀플/data/일부 데이터/Training/01.원천데이터/TS_0015/0015_1964_41_00000034_D.png',\n",
              " '/content/drive/MyDrive/딥러닝 팀플/data/일부 데이터/Training/01.원천데이터/TS_0015/0015_1964_50_00000044_D.png',\n",
              " '/content/drive/MyDrive/딥러닝 팀플/data/일부 데이터/Training/01.원천데이터/TS_0015/0015_1964_15_00000004_F.png',\n",
              " '/content/drive/MyDrive/딥러닝 팀플/data/일부 데이터/Training/01.원천데이터/TS_0015/0015_1964_58_00000057_D.png',\n",
              " '/content/drive/MyDrive/딥러닝 팀플/data/일부 데이터/Training/01.원천데이터/TS_0015/0015_1964_42_00000035_D.png',\n",
              " '/content/drive/MyDrive/딥러닝 팀플/data/일부 데이터/Training/01.원천데이터/TS_0015/0015_1964_30_00000022_F.png',\n",
              " '/content/drive/MyDrive/딥러닝 팀플/data/일부 데이터/Training/01.원천데이터/TS_0433/0433_1967_02_00000016_F.png',\n",
              " '/content/drive/MyDrive/딥러닝 팀플/data/일부 데이터/Training/01.원천데이터/TS_0433/0433_1967_49_00000031_D.png',\n",
              " '/content/drive/MyDrive/딥러닝 팀플/data/일부 데이터/Training/01.원천데이터/TS_0433/0433_1967_30_00000018_F.png',\n",
              " '/content/drive/MyDrive/딥러닝 팀플/data/일부 데이터/Training/01.원천데이터/TS_0433/0433_1967_47_00000027_D.png',\n",
              " '/content/drive/MyDrive/딥러닝 팀플/data/일부 데이터/Training/01.원천데이터/TS_0433/0433_1967_34_00000023_F.png',\n",
              " '/content/drive/MyDrive/딥러닝 팀플/data/일부 데이터/Training/01.원천데이터/TS_0433/0433_1967_56_00000045_D.png',\n",
              " '/content/drive/MyDrive/딥러닝 팀플/data/일부 데이터/Training/01.원천데이터/TS_0433/0433_1967_13_00000005_F.png',\n",
              " '/content/drive/MyDrive/딥러닝 팀플/data/일부 데이터/Training/01.원천데이터/TS_0433/0433_1967_30_00000021_F.png',\n",
              " '/content/drive/MyDrive/딥러닝 팀플/data/일부 데이터/Training/01.원천데이터/TS_0433/0433_1967_24_00000012_F.png',\n",
              " '/content/drive/MyDrive/딥러닝 팀플/data/일부 데이터/Training/01.원천데이터/TS_0433/0433_1967_11_00000002_F.png',\n",
              " '/content/drive/MyDrive/딥러닝 팀플/data/일부 데이터/Training/01.원천데이터/TS_0433/0433_1967_14_00000007_F.png',\n",
              " '/content/drive/MyDrive/딥러닝 팀플/data/일부 데이터/Training/01.원천데이터/TS_0433/0433_1967_14_00000006_F.png',\n",
              " '/content/drive/MyDrive/딥러닝 팀플/data/일부 데이터/Training/01.원천데이터/TS_0433/0433_1967_32_00000022_F.png',\n",
              " '/content/drive/MyDrive/딥러닝 팀플/data/일부 데이터/Training/01.원천데이터/TS_0433/0433_1967_30_00000020_F.png',\n",
              " '/content/drive/MyDrive/딥러닝 팀플/data/일부 데이터/Training/01.원천데이터/TS_0433/0433_1967_48_00000030_D.png',\n",
              " '/content/drive/MyDrive/딥러닝 팀플/data/일부 데이터/Training/01.원천데이터/TS_0433/0433_1967_25_00000014_F.png',\n",
              " '/content/drive/MyDrive/딥러닝 팀플/data/일부 데이터/Training/01.원천데이터/TS_0433/0433_1967_56_00000050_D.png',\n",
              " '/content/drive/MyDrive/딥러닝 팀플/data/일부 데이터/Training/01.원천데이터/TS_0433/0433_1967_48_00000028_D.png',\n",
              " '/content/drive/MyDrive/딥러닝 팀플/data/일부 데이터/Training/01.원천데이터/TS_0433/0433_1967_30_00000017_F.png',\n",
              " '/content/drive/MyDrive/딥러닝 팀플/data/일부 데이터/Training/01.원천데이터/TS_0433/0433_1967_37_00000024_F.png',\n",
              " '/content/drive/MyDrive/딥러닝 팀플/data/일부 데이터/Training/01.원천데이터/TS_0433/0433_1967_48_00000029_D.png',\n",
              " '/content/drive/MyDrive/딥러닝 팀플/data/일부 데이터/Training/01.원천데이터/TS_0433/0433_1967_25_00000013_F.png',\n",
              " '/content/drive/MyDrive/딥러닝 팀플/data/일부 데이터/Training/01.원천데이터/TS_0433/0433_1967_30_00000019_F.png',\n",
              " '/content/drive/MyDrive/딥러닝 팀플/data/일부 데이터/Training/01.원천데이터/TS_0433/0433_1967_51_00000038_D.png',\n",
              " '/content/drive/MyDrive/딥러닝 팀플/data/일부 데이터/Training/01.원천데이터/TS_0433/0433_1967_11_00000001_F.png',\n",
              " '/content/drive/MyDrive/딥러닝 팀플/data/일부 데이터/Training/01.원천데이터/TS_0433/0433_1967_23_00000011_F.png',\n",
              " '/content/drive/MyDrive/딥러닝 팀플/data/일부 데이터/Training/01.원천데이터/TS_0433/0433_1967_47_00000026_D.png',\n",
              " '/content/drive/MyDrive/딥러닝 팀플/data/일부 데이터/Training/01.원천데이터/TS_0433/0433_1967_04_00000035_F.png',\n",
              " '/content/drive/MyDrive/딥러닝 팀플/data/일부 데이터/Training/01.원천데이터/TS_0433/0433_1967_12_00000004_F.png',\n",
              " '/content/drive/MyDrive/딥러닝 팀플/data/일부 데이터/Training/01.원천데이터/TS_0433/0433_1967_40_00000025_F.png',\n",
              " '/content/drive/MyDrive/딥러닝 팀플/data/일부 데이터/Training/01.원천데이터/TS_0433/0433_1967_21_00000008_F.png',\n",
              " '/content/drive/MyDrive/딥러닝 팀플/data/일부 데이터/Training/01.원천데이터/TS_0433/0433_1967_52_00000040_D.png',\n",
              " '/content/drive/MyDrive/딥러닝 팀플/data/일부 데이터/Training/01.원천데이터/TS_0433/0433_1967_49_00000033_D.png',\n",
              " '/content/drive/MyDrive/딥러닝 팀플/data/일부 데이터/Training/01.원천데이터/TS_0433/0433_1967_11_00000003_F.png',\n",
              " '/content/drive/MyDrive/딥러닝 팀플/data/일부 데이터/Training/01.원천데이터/TS_0433/0433_1967_22_00000010_F.png',\n",
              " '/content/drive/MyDrive/딥러닝 팀플/data/일부 데이터/Training/01.원천데이터/TS_0433/0433_1967_49_00000032_D.png',\n",
              " '/content/drive/MyDrive/딥러닝 팀플/data/일부 데이터/Training/01.원천데이터/TS_0433/0433_1967_21_00000009_F.png',\n",
              " '/content/drive/MyDrive/딥러닝 팀플/data/일부 데이터/Training/01.원천데이터/TS_0433/0433_1967_50_00000037_D.png',\n",
              " '/content/drive/MyDrive/딥러닝 팀플/data/일부 데이터/Training/01.원천데이터/TS_0433/0433_1967_53_00000041_D.png',\n",
              " '/content/drive/MyDrive/딥러닝 팀플/data/일부 데이터/Training/01.원천데이터/TS_0433/0433_1967_27_00000015_F.png',\n",
              " '/content/drive/MyDrive/딥러닝 팀플/data/일부 데이터/Training/01.원천데이터/TS_0433/0433_1967_55_00000042_D.png',\n",
              " '/content/drive/MyDrive/딥러닝 팀플/data/일부 데이터/Training/01.원천데이터/TS_0433/0433_1967_52_00000039_D.png',\n",
              " '/content/drive/MyDrive/딥러닝 팀플/data/일부 데이터/Training/01.원천데이터/TS_0433/0433_1967_56_00000044_D.png',\n",
              " '/content/drive/MyDrive/딥러닝 팀플/data/일부 데이터/Training/01.원천데이터/TS_0433/0433_1967_49_00000034_D.png',\n",
              " '/content/drive/MyDrive/딥러닝 팀플/data/일부 데이터/Training/01.원천데이터/TS_0433/0433_1967_50_00000036_D.png',\n",
              " '/content/drive/MyDrive/딥러닝 팀플/data/일부 데이터/Training/01.원천데이터/TS_0433/0433_1967_56_00000049_D.png',\n",
              " '/content/drive/MyDrive/딥러닝 팀플/data/일부 데이터/Training/01.원천데이터/TS_0433/0433_1967_56_00000048_D.png',\n",
              " '/content/drive/MyDrive/딥러닝 팀플/data/일부 데이터/Training/01.원천데이터/TS_0433/0433_1967_56_00000046_D.png',\n",
              " '/content/drive/MyDrive/딥러닝 팀플/data/일부 데이터/Training/01.원천데이터/TS_0433/0433_1967_55_00000043_D.png',\n",
              " '/content/drive/MyDrive/딥러닝 팀플/data/일부 데이터/Training/01.원천데이터/TS_0433/0433_1967_56_00000047_D.png',\n",
              " '/content/drive/MyDrive/딥러닝 팀플/data/일부 데이터/Training/01.원천데이터/TS_0313/0313_1961_56_00000043_D.png',\n",
              " '/content/drive/MyDrive/딥러닝 팀플/data/일부 데이터/Training/01.원천데이터/TS_0313/0313_1961_57_00000044_D.png',\n",
              " '/content/drive/MyDrive/딥러닝 팀플/data/일부 데이터/Training/01.원천데이터/TS_0313/0313_1961_41_00000037_F.png',\n",
              " '/content/drive/MyDrive/딥러닝 팀플/data/일부 데이터/Training/01.원천데이터/TS_0313/0313_1961_13_00000004_F.png',\n",
              " '/content/drive/MyDrive/딥러닝 팀플/data/일부 데이터/Training/01.원천데이터/TS_0313/0313_1961_34_00000030_F.png',\n",
              " '/content/drive/MyDrive/딥러닝 팀플/data/일부 데이터/Training/01.원천데이터/TS_0313/0313_1961_61_00000061_D.png',\n",
              " '/content/drive/MyDrive/딥러닝 팀플/data/일부 데이터/Training/01.원천데이터/TS_0313/0313_1961_30_00000027_F.png',\n",
              " '/content/drive/MyDrive/딥러닝 팀플/data/일부 데이터/Training/01.원천데이터/TS_0313/0313_1961_27_00000021_F.png',\n",
              " '/content/drive/MyDrive/딥러닝 팀플/data/일부 데이터/Training/01.원천데이터/TS_0313/0313_1961_40_00000034_F.png',\n",
              " '/content/drive/MyDrive/딥러닝 팀플/data/일부 데이터/Training/01.원천데이터/TS_0313/0313_1961_23_00000016_F.png',\n",
              " '/content/drive/MyDrive/딥러닝 팀플/data/일부 데이터/Training/01.원천데이터/TS_0313/0313_1961_35_00000032_F.png',\n",
              " '/content/drive/MyDrive/딥러닝 팀플/data/일부 데이터/Training/01.원천데이터/TS_0313/0313_1961_37_00000033_F.png',\n",
              " '/content/drive/MyDrive/딥러닝 팀플/data/일부 데이터/Training/01.원천데이터/TS_0313/0313_1961_19_00000011_F.png',\n",
              " '/content/drive/MyDrive/딥러닝 팀플/data/일부 데이터/Training/01.원천데이터/TS_0313/0313_1961_42_00000039_F.png',\n",
              " '/content/drive/MyDrive/딥러닝 팀플/data/일부 데이터/Training/01.원천데이터/TS_0313/0313_1961_17_00000009_F.png',\n",
              " '/content/drive/MyDrive/딥러닝 팀플/data/일부 데이터/Training/01.원천데이터/TS_0313/0313_1961_34_00000031_F.png',\n",
              " '/content/drive/MyDrive/딥러닝 팀플/data/일부 데이터/Training/01.원천데이터/TS_0313/0313_1961_61_00000058_D.png',\n",
              " '/content/drive/MyDrive/딥러닝 팀플/data/일부 데이터/Training/01.원천데이터/TS_0313/0313_1961_41_00000035_F.png',\n",
              " '/content/drive/MyDrive/딥러닝 팀플/data/일부 데이터/Training/01.원천데이터/TS_0313/0313_1961_20_00000012_F.png',\n",
              " '/content/drive/MyDrive/딥러닝 팀플/data/일부 데이터/Training/01.원천데이터/TS_0313/0313_1961_16_00000008_F.png',\n",
              " '/content/drive/MyDrive/딥러닝 팀플/data/일부 데이터/Training/01.원천데이터/TS_0313/0313_1961_50_00000045_D.png',\n",
              " '/content/drive/MyDrive/딥러닝 팀플/data/일부 데이터/Training/01.원천데이터/TS_0313/0313_1961_58_00000049_D.png',\n",
              " '/content/drive/MyDrive/딥러닝 팀플/data/일부 데이터/Training/01.원천데이터/TS_0313/0313_1961_61_00000057_D.png',\n",
              " '/content/drive/MyDrive/딥러닝 팀플/data/일부 데이터/Training/01.원천데이터/TS_0313/0313_1961_61_00000059_D.png',\n",
              " '/content/drive/MyDrive/딥러닝 팀플/data/일부 데이터/Training/01.원천데이터/TS_0313/0313_1961_55_00000042_D.png',\n",
              " '/content/drive/MyDrive/딥러닝 팀플/data/일부 데이터/Training/01.원천데이터/TS_0313/0313_1961_33_00000029_F.png',\n",
              " '/content/drive/MyDrive/딥러닝 팀플/data/일부 데이터/Training/01.원천데이터/TS_0313/0313_1961_61_00000053_D.png',\n",
              " '/content/drive/MyDrive/딥러닝 팀플/data/일부 데이터/Training/01.원천데이터/TS_0313/0313_1961_14_00000005_F.png',\n",
              " '/content/drive/MyDrive/딥러닝 팀플/data/일부 데이터/Training/01.원천데이터/TS_0313/0313_1961_41_00000036_F.png',\n",
              " '/content/drive/MyDrive/딥러닝 팀플/data/일부 데이터/Training/01.원천데이터/TS_0313/0313_1961_41_00000038_F.png',\n",
              " '/content/drive/MyDrive/딥러닝 팀플/data/일부 데이터/Training/01.원천데이터/TS_0313/0313_1961_42_00000040_F.png',\n",
              " '/content/drive/MyDrive/딥러닝 팀플/data/일부 데이터/Training/01.원천데이터/TS_0313/0313_1961_61_00000054_D.png',\n",
              " '/content/drive/MyDrive/딥러닝 팀플/data/일부 데이터/Training/01.원천데이터/TS_0313/0313_1961_16_00000007_F.png',\n",
              " '/content/drive/MyDrive/딥러닝 팀플/data/일부 데이터/Training/01.원천데이터/TS_0313/0313_1961_48_00000041_F.png',\n",
              " '/content/drive/MyDrive/딥러닝 팀플/data/일부 데이터/Training/01.원천데이터/TS_0313/0313_1961_58_00000048_D.png',\n",
              " '/content/drive/MyDrive/딥러닝 팀플/data/일부 데이터/Training/01.원천데이터/TS_0313/0313_1961_24_00000017_F.png',\n",
              " '/content/drive/MyDrive/딥러닝 팀플/data/일부 데이터/Training/01.원천데이터/TS_0313/0313_1961_08_00000002_F.png',\n",
              " '/content/drive/MyDrive/딥러닝 팀플/data/일부 데이터/Training/01.원천데이터/TS_0313/0313_1961_58_00000047_D.png',\n",
              " '/content/drive/MyDrive/딥러닝 팀플/data/일부 데이터/Training/01.원천데이터/TS_0313/0313_1961_21_00000013_F.png',\n",
              " '/content/drive/MyDrive/딥러닝 팀플/data/일부 데이터/Training/01.원천데이터/TS_0313/0313_1961_04_00000001_F.png',\n",
              " '/content/drive/MyDrive/딥러닝 팀플/data/일부 데이터/Training/01.원천데이터/TS_0313/0313_1961_60_00000052_D.png',\n",
              " '/content/drive/MyDrive/딥러닝 팀플/data/일부 데이터/Training/01.원천데이터/TS_0313/0313_1961_58_00000046_D.png',\n",
              " '/content/drive/MyDrive/딥러닝 팀플/data/일부 데이터/Training/01.원천데이터/TS_0313/0313_1961_60_00000050_D.png',\n",
              " '/content/drive/MyDrive/딥러닝 팀플/data/일부 데이터/Training/01.원천데이터/TS_0313/0313_1961_61_00000060_D.png',\n",
              " '/content/drive/MyDrive/딥러닝 팀플/data/일부 데이터/Training/01.원천데이터/TS_0313/0313_1961_15_00000006_F.png',\n",
              " '/content/drive/MyDrive/딥러닝 팀플/data/일부 데이터/Training/01.원천데이터/TS_0313/0313_1961_60_00000051_D.png',\n",
              " '/content/drive/MyDrive/딥러닝 팀플/data/일부 데이터/Training/01.원천데이터/TS_0313/0313_1961_61_00000055_D.png',\n",
              " '/content/drive/MyDrive/딥러닝 팀플/data/일부 데이터/Training/01.원천데이터/TS_0313/0313_1961_61_00000056_D.png',\n",
              " '/content/drive/MyDrive/딥러닝 팀플/data/일부 데이터/Training/01.원천데이터/TS_0313/0313_1961_33_00000028_F.png',\n",
              " '/content/drive/MyDrive/딥러닝 팀플/data/일부 데이터/Training/01.원천데이터/TS_0313/0313_1961_27_00000020_F.png',\n",
              " '/content/drive/MyDrive/딥러닝 팀플/data/일부 데이터/Training/01.원천데이터/TS_0301/0301_1962_10_00000003_F.png',\n",
              " '/content/drive/MyDrive/딥러닝 팀플/data/일부 데이터/Training/01.원천데이터/TS_0301/0301_1962_14_00000005_F.png',\n",
              " '/content/drive/MyDrive/딥러닝 팀플/data/일부 데이터/Training/01.원천데이터/TS_0301/0301_1962_34_00000022_F.png',\n",
              " '/content/drive/MyDrive/딥러닝 팀플/data/일부 데이터/Training/01.원천데이터/TS_0301/0301_1962_11_00000004_F.png',\n",
              " '/content/drive/MyDrive/딥러닝 팀플/data/일부 데이터/Training/01.원천데이터/TS_0301/0301_1962_32_00000018_F.png',\n",
              " '/content/drive/MyDrive/딥러닝 팀플/data/일부 데이터/Training/01.원천데이터/TS_0301/0301_1962_01_00000001_F.png',\n",
              " '/content/drive/MyDrive/딥러닝 팀플/data/일부 데이터/Training/01.원천데이터/TS_0301/0301_1962_45_00000029_F.png',\n",
              " '/content/drive/MyDrive/딥러닝 팀플/data/일부 데이터/Training/01.원천데이터/TS_0301/0301_1962_28_00000017_F.png',\n",
              " '/content/drive/MyDrive/딥러닝 팀플/data/일부 데이터/Training/01.원천데이터/TS_0301/0301_1962_46_00000030_F.png',\n",
              " '/content/drive/MyDrive/딥러닝 팀플/data/일부 데이터/Training/01.원천데이터/TS_0301/0301_1962_33_00000020_F.png',\n",
              " '/content/drive/MyDrive/딥러닝 팀플/data/일부 데이터/Training/01.원천데이터/TS_0301/0301_1962_25_00000012_F.png',\n",
              " '/content/drive/MyDrive/딥러닝 팀플/data/일부 데이터/Training/01.원천데이터/TS_0301/0301_1962_25_00000011_F.png',\n",
              " '/content/drive/MyDrive/딥러닝 팀플/data/일부 데이터/Training/01.원천데이터/TS_0301/0301_1962_54_00000046_D.png',\n",
              " '/content/drive/MyDrive/딥러닝 팀플/data/일부 데이터/Training/01.원천데이터/TS_0301/0301_1962_16_00000007_F.png',\n",
              " '/content/drive/MyDrive/딥러닝 팀플/data/일부 데이터/Training/01.원천데이터/TS_0301/0301_1962_25_00000013_F.png',\n",
              " '/content/drive/MyDrive/딥러닝 팀플/data/일부 데이터/Training/01.원천데이터/TS_0301/0301_1962_32_00000019_F.png',\n",
              " '/content/drive/MyDrive/딥러닝 팀플/data/일부 데이터/Training/01.원천데이터/TS_0301/0301_1962_37_00000025_F.png',\n",
              " '/content/drive/MyDrive/딥러닝 팀플/data/일부 데이터/Training/01.원천데이터/TS_0301/0301_1962_27_00000015_F.png',\n",
              " '/content/drive/MyDrive/딥러닝 팀플/data/일부 데이터/Training/01.원천데이터/TS_0301/0301_1962_15_00000006_F.png',\n",
              " '/content/drive/MyDrive/딥러닝 팀플/data/일부 데이터/Training/01.원천데이터/TS_0301/0301_1962_26_00000014_F.png',\n",
              " '/content/drive/MyDrive/딥러닝 팀플/data/일부 데이터/Training/01.원천데이터/TS_0301/0301_1962_18_00000009_F.png',\n",
              " '/content/drive/MyDrive/딥러닝 팀플/data/일부 데이터/Training/01.원천데이터/TS_0301/0301_1962_33_00000021_F.png',\n",
              " '/content/drive/MyDrive/딥러닝 팀플/data/일부 데이터/Training/01.원천데이터/TS_0301/0301_1962_44_00000027_F.png',\n",
              " '/content/drive/MyDrive/딥러닝 팀플/data/일부 데이터/Training/01.원천데이터/TS_0301/0301_1962_35_00000024_F.png',\n",
              " '/content/drive/MyDrive/딥러닝 팀플/data/일부 데이터/Training/01.원천데이터/TS_0301/0301_1962_28_00000016_F.png',\n",
              " '/content/drive/MyDrive/딥러닝 팀플/data/일부 데이터/Training/01.원천데이터/TS_0301/0301_1962_42_00000026_F.png',\n",
              " '/content/drive/MyDrive/딥러닝 팀플/data/일부 데이터/Training/01.원천데이터/TS_0301/0301_1962_07_00000002_F.png',\n",
              " '/content/drive/MyDrive/딥러닝 팀플/data/일부 데이터/Training/01.원천데이터/TS_0301/0301_1962_22_00000010_F.png',\n",
              " '/content/drive/MyDrive/딥러닝 팀플/data/일부 데이터/Training/01.원천데이터/TS_0301/0301_1962_56_00000049_D.png',\n",
              " '/content/drive/MyDrive/딥러닝 팀플/data/일부 데이터/Training/01.원천데이터/TS_0301/0301_1962_35_00000023_F.png',\n",
              " '/content/drive/MyDrive/딥러닝 팀플/data/일부 데이터/Training/01.원천데이터/TS_0301/0301_1962_16_00000008_F.png',\n",
              " '/content/drive/MyDrive/딥러닝 팀플/data/일부 데이터/Training/01.원천데이터/TS_0301/0301_1962_58_00000050_D.png',\n",
              " '/content/drive/MyDrive/딥러닝 팀플/data/일부 데이터/Training/01.원천데이터/TS_0301/0301_1962_51_00000042_D.png',\n",
              " '/content/drive/MyDrive/딥러닝 팀플/data/일부 데이터/Training/01.원천데이터/TS_0301/0301_1962_50_00000037_F.png',\n",
              " '/content/drive/MyDrive/딥러닝 팀플/data/일부 데이터/Training/01.원천데이터/TS_0301/0301_1962_51_00000038_D.png',\n",
              " '/content/drive/MyDrive/딥러닝 팀플/data/일부 데이터/Training/01.원천데이터/TS_0301/0301_1962_50_00000034_F.png',\n",
              " '/content/drive/MyDrive/딥러닝 팀플/data/일부 데이터/Training/01.원천데이터/TS_0301/0301_1962_52_00000044_D.png',\n",
              " '/content/drive/MyDrive/딥러닝 팀플/data/일부 데이터/Training/01.원천데이터/TS_0301/0301_1962_51_00000040_D.png',\n",
              " '/content/drive/MyDrive/딥러닝 팀플/data/일부 데이터/Training/01.원천데이터/TS_0301/0301_1962_47_00000031_F.png',\n",
              " '/content/drive/MyDrive/딥러닝 팀플/data/일부 데이터/Training/01.원천데이터/TS_0301/0301_1962_49_00000033_F.png',\n",
              " '/content/drive/MyDrive/딥러닝 팀플/data/일부 데이터/Training/01.원천데이터/TS_0301/0301_1962_50_00000035_F.png',\n",
              " '/content/drive/MyDrive/딥러닝 팀플/data/일부 데이터/Training/01.원천데이터/TS_0301/0301_1962_52_00000043_D.png',\n",
              " '/content/drive/MyDrive/딥러닝 팀플/data/일부 데이터/Training/01.원천데이터/TS_0301/0301_1962_47_00000032_F.png',\n",
              " '/content/drive/MyDrive/딥러닝 팀플/data/일부 데이터/Training/01.원천데이터/TS_0301/0301_1962_54_00000047_D.png',\n",
              " '/content/drive/MyDrive/딥러닝 팀플/data/일부 데이터/Training/01.원천데이터/TS_0301/0301_1962_51_00000041_D.png',\n",
              " '/content/drive/MyDrive/딥러닝 팀플/data/일부 데이터/Training/01.원천데이터/TS_0301/0301_1962_54_00000045_D.png',\n",
              " '/content/drive/MyDrive/딥러닝 팀플/data/일부 데이터/Training/01.원천데이터/TS_0301/0301_1962_55_00000048_D.png',\n",
              " '/content/drive/MyDrive/딥러닝 팀플/data/일부 데이터/Training/01.원천데이터/TS_0301/0301_1962_51_00000039_D.png',\n",
              " '/content/drive/MyDrive/딥러닝 팀플/data/일부 데이터/Training/01.원천데이터/TS_0301/0301_1962_50_00000036_F.png',\n",
              " '/content/drive/MyDrive/딥러닝 팀플/data/일부 데이터/Training/01.원천데이터/TS_0301/0301_1962_45_00000028_F.png',\n",
              " '/content/drive/MyDrive/딥러닝 팀플/data/일부 데이터/Training/01.원천데이터/TS_0117/0117_1985_31_00000035_D.png',\n",
              " '/content/drive/MyDrive/딥러닝 팀플/data/일부 데이터/Training/01.원천데이터/TS_0117/0117_1985_03_00000002_F.png',\n",
              " '/content/drive/MyDrive/딥러닝 팀플/data/일부 데이터/Training/01.원천데이터/TS_0117/0117_1985_09_00000008_F.png',\n",
              " '/content/drive/MyDrive/딥러닝 팀플/data/일부 데이터/Training/01.원천데이터/TS_0117/0117_1985_11_00000010_F.png',\n",
              " '/content/drive/MyDrive/딥러닝 팀플/data/일부 데이터/Training/01.원천데이터/TS_0117/0117_1985_06_00000005_F.png',\n",
              " '/content/drive/MyDrive/딥러닝 팀플/data/일부 데이터/Training/01.원천데이터/TS_0117/0117_1985_12_00000012_F.png',\n",
              " '/content/drive/MyDrive/딥러닝 팀플/data/일부 데이터/Training/01.원천데이터/TS_0117/0117_1985_02_00000001_F.png',\n",
              " '/content/drive/MyDrive/딥러닝 팀플/data/일부 데이터/Training/01.원천데이터/TS_0117/0117_1985_04_00000003_F.png',\n",
              " '/content/drive/MyDrive/딥러닝 팀플/data/일부 데이터/Training/01.원천데이터/TS_0117/0117_1985_07_00000006_F.png',\n",
              " '/content/drive/MyDrive/딥러닝 팀플/data/일부 데이터/Training/01.원천데이터/TS_0117/0117_1985_10_00000009_F.png',\n",
              " '/content/drive/MyDrive/딥러닝 팀플/data/일부 데이터/Training/01.원천데이터/TS_0117/0117_1985_26_00000032_D.png',\n",
              " '/content/drive/MyDrive/딥러닝 팀플/data/일부 데이터/Training/01.원천데이터/TS_0117/0117_1985_26_00000031_D.png',\n",
              " '/content/drive/MyDrive/딥러닝 팀플/data/일부 데이터/Training/01.원천데이터/TS_0117/0117_1985_07_00000007_F.png',\n",
              " '/content/drive/MyDrive/딥러닝 팀플/data/일부 데이터/Training/01.원천데이터/TS_0117/0117_1985_34_00000038_D.png',\n",
              " '/content/drive/MyDrive/딥러닝 팀플/data/일부 데이터/Training/01.원천데이터/TS_0117/0117_1985_38_00000048_D.png',\n",
              " '/content/drive/MyDrive/딥러닝 팀플/data/일부 데이터/Training/01.원천데이터/TS_0117/0117_1985_33_00000037_D.png',\n",
              " '/content/drive/MyDrive/딥러닝 팀플/data/일부 데이터/Training/01.원천데이터/TS_0117/0117_1985_05_00000004_F.png',\n",
              " '/content/drive/MyDrive/딥러닝 팀플/data/일부 데이터/Training/01.원천데이터/TS_0117/0117_1985_37_00000044_D.png',\n",
              " '/content/drive/MyDrive/딥러닝 팀플/data/일부 데이터/Training/01.원천데이터/TS_0117/0117_1985_37_00000046_D.png',\n",
              " '/content/drive/MyDrive/딥러닝 팀플/data/일부 데이터/Training/01.원천데이터/TS_0117/0117_1985_14_00000014_F.png',\n",
              " '/content/drive/MyDrive/딥러닝 팀플/data/일부 데이터/Training/01.원천데이터/TS_0117/0117_1985_27_00000033_D.png',\n",
              " '/content/drive/MyDrive/딥러닝 팀플/data/일부 데이터/Training/01.원천데이터/TS_0117/0117_1985_20_00000024_D.png',\n",
              " '/content/drive/MyDrive/딥러닝 팀플/data/일부 데이터/Training/01.원천데이터/TS_0117/0117_1985_37_00000043_D.png',\n",
              " '/content/drive/MyDrive/딥러닝 팀플/data/일부 데이터/Training/01.원천데이터/TS_0117/0117_1985_17_00000019_F.png',\n",
              " '/content/drive/MyDrive/딥러닝 팀플/data/일부 데이터/Training/01.원천데이터/TS_0117/0117_1985_13_00000013_F.png',\n",
              " '/content/drive/MyDrive/딥러닝 팀플/data/일부 데이터/Training/01.원천데이터/TS_0117/0117_1985_18_00000020_F.png',\n",
              " '/content/drive/MyDrive/딥러닝 팀플/data/일부 데이터/Training/01.원천데이터/TS_0117/0117_1985_38_00000050_D.png',\n",
              " '/content/drive/MyDrive/딥러닝 팀플/data/일부 데이터/Training/01.원천데이터/TS_0117/0117_1985_26_00000030_D.png',\n",
              " '/content/drive/MyDrive/딥러닝 팀플/data/일부 데이터/Training/01.원천데이터/TS_0117/0117_1985_23_00000027_D.png',\n",
              " '/content/drive/MyDrive/딥러닝 팀플/data/일부 데이터/Training/01.원천데이터/TS_0117/0117_1985_35_00000040_D.png',\n",
              " '/content/drive/MyDrive/딥러닝 팀플/data/일부 데이터/Training/01.원천데이터/TS_0117/0117_1985_37_00000047_D.png',\n",
              " '/content/drive/MyDrive/딥러닝 팀플/data/일부 데이터/Training/01.원천데이터/TS_0117/0117_1985_15_00000015_F.png',\n",
              " '/content/drive/MyDrive/딥러닝 팀플/data/일부 데이터/Training/01.원천데이터/TS_0117/0117_1985_23_00000028_D.png',\n",
              " '/content/drive/MyDrive/딥러닝 팀플/data/일부 데이터/Training/01.원천데이터/TS_0117/0117_1985_35_00000039_D.png',\n",
              " '/content/drive/MyDrive/딥러닝 팀플/data/일부 데이터/Training/01.원천데이터/TS_0117/0117_1985_37_00000045_D.png',\n",
              " '/content/drive/MyDrive/딥러닝 팀플/data/일부 데이터/Training/01.원천데이터/TS_0117/0117_1985_16_00000016_F.png',\n",
              " '/content/drive/MyDrive/딥러닝 팀플/data/일부 데이터/Training/01.원천데이터/TS_0117/0117_1985_20_00000025_D.png',\n",
              " '/content/drive/MyDrive/딥러닝 팀플/data/일부 데이터/Training/01.원천데이터/TS_0117/0117_1985_38_00000049_D.png',\n",
              " '/content/drive/MyDrive/딥러닝 팀플/data/일부 데이터/Training/01.원천데이터/TS_0117/0117_1985_18_00000022_F.png',\n",
              " '/content/drive/MyDrive/딥러닝 팀플/data/일부 데이터/Training/01.원천데이터/TS_0117/0117_1985_30_00000034_D.png',\n",
              " '/content/drive/MyDrive/딥러닝 팀플/data/일부 데이터/Training/01.원천데이터/TS_0117/0117_1985_36_00000042_D.png',\n",
              " '/content/drive/MyDrive/딥러닝 팀플/data/일부 데이터/Training/01.원천데이터/TS_0117/0117_1985_21_00000026_D.png',\n",
              " '/content/drive/MyDrive/딥러닝 팀플/data/일부 데이터/Training/01.원천데이터/TS_0117/0117_1985_12_00000011_F.png',\n",
              " '/content/drive/MyDrive/딥러닝 팀플/data/일부 데이터/Training/01.원천데이터/TS_0117/0117_1985_36_00000041_D.png',\n",
              " '/content/drive/MyDrive/딥러닝 팀플/data/일부 데이터/Training/01.원천데이터/TS_0117/0117_1985_18_00000021_F.png',\n",
              " '/content/drive/MyDrive/딥러닝 팀플/data/일부 데이터/Training/01.원천데이터/TS_0117/0117_1985_16_00000018_F.png',\n",
              " '/content/drive/MyDrive/딥러닝 팀플/data/일부 데이터/Training/01.원천데이터/TS_0117/0117_1985_19_00000023_F.png',\n",
              " '/content/drive/MyDrive/딥러닝 팀플/data/일부 데이터/Training/01.원천데이터/TS_0117/0117_1985_32_00000036_D.png',\n",
              " '/content/drive/MyDrive/딥러닝 팀플/data/일부 데이터/Training/01.원천데이터/TS_0117/0117_1985_24_00000029_D.png',\n",
              " '/content/drive/MyDrive/딥러닝 팀플/data/일부 데이터/Training/01.원천데이터/TS_0117/0117_1985_16_00000017_F.png',\n",
              " '/content/drive/MyDrive/딥러닝 팀플/data/일부 데이터/Training/01.원천데이터/TS_0480/0480_1983_09_00000008_F.png',\n",
              " '/content/drive/MyDrive/딥러닝 팀플/data/일부 데이터/Training/01.원천데이터/TS_0480/0480_1983_37_00000041_D.png',\n",
              " '/content/drive/MyDrive/딥러닝 팀플/data/일부 데이터/Training/01.원천데이터/TS_0480/0480_1983_34_00000037_D.png',\n",
              " '/content/drive/MyDrive/딥러닝 팀플/data/일부 데이터/Training/01.원천데이터/TS_0480/0480_1983_17_00000017_F.png',\n",
              " '/content/drive/MyDrive/딥러닝 팀플/data/일부 데이터/Training/01.원천데이터/TS_0480/0480_1983_10_00000011_F.png',\n",
              " '/content/drive/MyDrive/딥러닝 팀플/data/일부 데이터/Training/01.원천데이터/TS_0480/0480_1983_07_00000005_F.png',\n",
              " '/content/drive/MyDrive/딥러닝 팀플/data/일부 데이터/Training/01.원천데이터/TS_0480/0480_1983_12_00000014_F.png',\n",
              " '/content/drive/MyDrive/딥러닝 팀플/data/일부 데이터/Training/01.원천데이터/TS_0480/0480_1983_26_00000029_D.png',\n",
              " '/content/drive/MyDrive/딥러닝 팀플/data/일부 데이터/Training/01.원천데이터/TS_0480/0480_1983_27_00000030_D.png',\n",
              " '/content/drive/MyDrive/딥러닝 팀플/data/일부 데이터/Training/01.원천데이터/TS_0480/0480_1983_11_00000012_F.png',\n",
              " '/content/drive/MyDrive/딥러닝 팀플/data/일부 데이터/Training/01.원천데이터/TS_0480/0480_1983_22_00000025_D.png',\n",
              " '/content/drive/MyDrive/딥러닝 팀플/data/일부 데이터/Training/01.원천데이터/TS_0480/0480_1983_38_00000045_D.png',\n",
              " '/content/drive/MyDrive/딥러닝 팀플/data/일부 데이터/Training/01.원천데이터/TS_0480/0480_1983_28_00000031_D.png',\n",
              " '/content/drive/MyDrive/딥러닝 팀플/data/일부 데이터/Training/01.원천데이터/TS_0480/0480_1983_06_00000004_F.png',\n",
              " '/content/drive/MyDrive/딥러닝 팀플/data/일부 데이터/Training/01.원천데이터/TS_0480/0480_1983_02_00000001_F.png',\n",
              " '/content/drive/MyDrive/딥러닝 팀플/data/일부 데이터/Training/01.원천데이터/TS_0480/0480_1983_39_00000047_D.png',\n",
              " '/content/drive/MyDrive/딥러닝 팀플/data/일부 데이터/Training/01.원천데이터/TS_0480/0480_1983_19_00000020_F.png',\n",
              " '/content/drive/MyDrive/딥러닝 팀플/data/일부 데이터/Training/01.원천데이터/TS_0480/0480_1983_39_00000048_D.png',\n",
              " '/content/drive/MyDrive/딥러닝 팀플/data/일부 데이터/Training/01.원천데이터/TS_0480/0480_1983_17_00000018_F.png',\n",
              " '/content/drive/MyDrive/딥러닝 팀플/data/일부 데이터/Training/01.원천데이터/TS_0480/0480_1983_10_00000010_F.png',\n",
              " '/content/drive/MyDrive/딥러닝 팀플/data/일부 데이터/Training/01.원천데이터/TS_0480/0480_1983_37_00000039_D.png',\n",
              " '/content/drive/MyDrive/딥러닝 팀플/data/일부 데이터/Training/01.원천데이터/TS_0480/0480_1983_07_00000006_F.png',\n",
              " '/content/drive/MyDrive/딥러닝 팀플/data/일부 데이터/Training/01.원천데이터/TS_0480/0480_1983_25_00000028_D.png',\n",
              " '/content/drive/MyDrive/딥러닝 팀플/data/일부 데이터/Training/01.원천데이터/TS_0480/0480_1983_39_00000050_D.png',\n",
              " '/content/drive/MyDrive/딥러닝 팀플/data/일부 데이터/Training/01.원천데이터/TS_0480/0480_1983_38_00000046_D.png',\n",
              " '/content/drive/MyDrive/딥러닝 팀플/data/일부 데이터/Training/01.원천데이터/TS_0480/0480_1983_34_00000035_D.png',\n",
              " '/content/drive/MyDrive/딥러닝 팀플/data/일부 데이터/Training/01.원천데이터/TS_0480/0480_1983_37_00000040_D.png',\n",
              " '/content/drive/MyDrive/딥러닝 팀플/data/일부 데이터/Training/01.원천데이터/TS_0480/0480_1983_08_00000007_F.png',\n",
              " '/content/drive/MyDrive/딥러닝 팀플/data/일부 데이터/Training/01.원천데이터/TS_0480/0480_1983_22_00000024_D.png',\n",
              " '/content/drive/MyDrive/딥러닝 팀플/data/일부 데이터/Training/01.원천데이터/TS_0480/0480_1983_39_00000049_D.png',\n",
              " '/content/drive/MyDrive/딥러닝 팀플/data/일부 데이터/Training/01.원천데이터/TS_0480/0480_1983_34_00000036_D.png',\n",
              " '/content/drive/MyDrive/딥러닝 팀플/data/일부 데이터/Training/01.원천데이터/TS_0480/0480_1983_05_00000003_F.png',\n",
              " '/content/drive/MyDrive/딥러닝 팀플/data/일부 데이터/Training/01.원천데이터/TS_0480/0480_1983_11_00000013_F.png',\n",
              " '/content/drive/MyDrive/딥러닝 팀플/data/일부 데이터/Training/01.원천데이터/TS_0480/0480_1983_17_00000019_F.png',\n",
              " '/content/drive/MyDrive/딥러닝 팀플/data/일부 데이터/Training/01.원천데이터/TS_0480/0480_1983_30_00000032_D.png',\n",
              " '/content/drive/MyDrive/딥러닝 팀플/data/일부 데이터/Training/01.원천데이터/TS_0480/0480_1983_21_00000023_D.png',\n",
              " '/content/drive/MyDrive/딥러닝 팀플/data/일부 데이터/Training/01.원천데이터/TS_0480/0480_1983_05_00000002_F.png',\n",
              " '/content/drive/MyDrive/딥러닝 팀플/data/일부 데이터/Training/01.원천데이터/TS_0480/0480_1983_33_00000034_D.png',\n",
              " '/content/drive/MyDrive/딥러닝 팀플/data/일부 데이터/Training/01.원천데이터/TS_0480/0480_1983_21_00000022_D.png',\n",
              " '/content/drive/MyDrive/딥러닝 팀플/data/일부 데이터/Training/01.원천데이터/TS_0480/0480_1983_21_00000021_D.png',\n",
              " '/content/drive/MyDrive/딥러닝 팀플/data/일부 데이터/Training/01.원천데이터/TS_0480/0480_1983_38_00000043_D.png',\n",
              " '/content/drive/MyDrive/딥러닝 팀플/data/일부 데이터/Training/01.원천데이터/TS_0480/0480_1983_35_00000038_D.png',\n",
              " '/content/drive/MyDrive/딥러닝 팀플/data/일부 데이터/Training/01.원천데이터/TS_0480/0480_1983_32_00000033_D.png',\n",
              " '/content/drive/MyDrive/딥러닝 팀플/data/일부 데이터/Training/01.원천데이터/TS_0480/0480_1983_16_00000016_F.png',\n",
              " '/content/drive/MyDrive/딥러닝 팀플/data/일부 데이터/Training/01.원천데이터/TS_0480/0480_1983_13_00000015_F.png',\n",
              " '/content/drive/MyDrive/딥러닝 팀플/data/일부 데이터/Training/01.원천데이터/TS_0480/0480_1983_38_00000044_D.png',\n",
              " '/content/drive/MyDrive/딥러닝 팀플/data/일부 데이터/Training/01.원천데이터/TS_0480/0480_1983_10_00000009_F.png',\n",
              " '/content/drive/MyDrive/딥러닝 팀플/data/일부 데이터/Training/01.원천데이터/TS_0480/0480_1983_38_00000042_D.png',\n",
              " '/content/drive/MyDrive/딥러닝 팀플/data/일부 데이터/Training/01.원천데이터/TS_0480/0480_1983_23_00000027_D.png',\n",
              " '/content/drive/MyDrive/딥러닝 팀플/data/일부 데이터/Training/01.원천데이터/TS_0480/0480_1983_22_00000026_D.png',\n",
              " '/content/drive/MyDrive/딥러닝 팀플/data/일부 데이터/Training/01.원천데이터/TS_0436/0436_1963_53_00000032_D.png',\n",
              " '/content/drive/MyDrive/딥러닝 팀플/data/일부 데이터/Training/01.원천데이터/TS_0436/0436_1963_16_00000002_F.png',\n",
              " '/content/drive/MyDrive/딥러닝 팀플/data/일부 데이터/Training/01.원천데이터/TS_0436/0436_1963_53_00000031_D.png',\n",
              " '/content/drive/MyDrive/딥러닝 팀플/data/일부 데이터/Training/01.원천데이터/TS_0436/0436_1963_58_00000043_D.png',\n",
              " '/content/drive/MyDrive/딥러닝 팀플/data/일부 데이터/Training/01.원천데이터/TS_0436/0436_1963_59_00000045_D.png',\n",
              " '/content/drive/MyDrive/딥러닝 팀플/data/일부 데이터/Training/01.원천데이터/TS_0436/0436_1963_18_00000004_F.png',\n",
              " '/content/drive/MyDrive/딥러닝 팀플/data/일부 데이터/Training/01.원천데이터/TS_0436/0436_1963_23_00000010_F.png',\n",
              " '/content/drive/MyDrive/딥러닝 팀플/data/일부 데이터/Training/01.원천데이터/TS_0436/0436_1963_24_00000012_F.png',\n",
              " '/content/drive/MyDrive/딥러닝 팀플/data/일부 데이터/Training/01.원천데이터/TS_0436/0436_1963_44_00000025_F.png',\n",
              " '/content/drive/MyDrive/딥러닝 팀플/data/일부 데이터/Training/01.원천데이터/TS_0436/0436_1963_38_00000017_F.png',\n",
              " '/content/drive/MyDrive/딥러닝 팀플/data/일부 데이터/Training/01.원천데이터/TS_0436/0436_1963_19_00000050_F.png',\n",
              " '/content/drive/MyDrive/딥러닝 팀플/data/일부 데이터/Training/01.원천데이터/TS_0436/0436_1963_60_00000047_D.png',\n",
              " '/content/drive/MyDrive/딥러닝 팀플/data/일부 데이터/Training/01.원천데이터/TS_0436/0436_1963_28_00000014_F.png',\n",
              " '/content/drive/MyDrive/딥러닝 팀플/data/일부 데이터/Training/01.원천데이터/TS_0436/0436_1963_08_00000049_F.png',\n",
              " '/content/drive/MyDrive/딥러닝 팀플/data/일부 데이터/Training/01.원천데이터/TS_0436/0436_1963_44_00000027_F.png',\n",
              " '/content/drive/MyDrive/딥러닝 팀플/data/일부 데이터/Training/01.원천데이터/TS_0436/0436_1963_22_00000009_F.png',\n",
              " '/content/drive/MyDrive/딥러닝 팀플/data/일부 데이터/Training/01.원천데이터/TS_0436/0436_1963_19_00000007_F.png',\n",
              " '/content/drive/MyDrive/딥러닝 팀플/data/일부 데이터/Training/01.원천데이터/TS_0436/0436_1963_53_00000052_D.png',\n",
              " '/content/drive/MyDrive/딥러닝 팀플/data/일부 데이터/Training/01.원천데이터/TS_0436/0436_1963_56_00000037_D.png',\n",
              " '/content/drive/MyDrive/딥러닝 팀플/data/일부 데이터/Training/01.원천데이터/TS_0436/0436_1963_47_00000028_F.png',\n",
              " '/content/drive/MyDrive/딥러닝 팀플/data/일부 데이터/Training/01.원천데이터/TS_0436/0436_1963_41_00000022_F.png',\n",
              " '/content/drive/MyDrive/딥러닝 팀플/data/일부 데이터/Training/01.원천데이터/TS_0436/0436_1963_14_00000001_F.png',\n",
              " '/content/drive/MyDrive/딥러닝 팀플/data/일부 데이터/Training/01.원천데이터/TS_0436/0436_1963_44_00000026_F.png',\n",
              " '/content/drive/MyDrive/딥러닝 팀플/data/일부 데이터/Training/01.원천데이터/TS_0436/0436_1963_39_00000021_F.png',\n",
              " '/content/drive/MyDrive/딥러닝 팀플/data/일부 데이터/Training/01.원천데이터/TS_0436/0436_1963_24_00000013_F.png',\n",
              " '/content/drive/MyDrive/딥러닝 팀플/data/일부 데이터/Training/01.원천데이터/TS_0436/0436_1963_18_00000005_F.png',\n",
              " '/content/drive/MyDrive/딥러닝 팀플/data/일부 데이터/Training/01.원천데이터/TS_0436/0436_1963_56_00000039_D.png',\n",
              " '/content/drive/MyDrive/딥러닝 팀플/data/일부 데이터/Training/01.원천데이터/TS_0436/0436_1963_38_00000018_F.png',\n",
              " '/content/drive/MyDrive/딥러닝 팀플/data/일부 데이터/Training/01.원천데이터/TS_0436/0436_1963_54_00000035_D.png',\n",
              " '/content/drive/MyDrive/딥러닝 팀플/data/일부 데이터/Training/01.원천데이터/TS_0436/0436_1963_08_00000048_F.png',\n",
              " '/content/drive/MyDrive/딥러닝 팀플/data/일부 데이터/Training/01.원천데이터/TS_0436/0436_1963_43_00000023_F.png',\n",
              " '/content/drive/MyDrive/딥러닝 팀플/data/일부 데이터/Training/01.원천데이터/TS_0436/0436_1963_24_00000051_F.png',\n",
              " '/content/drive/MyDrive/딥러닝 팀플/data/일부 데이터/Training/01.원천데이터/TS_0436/0436_1963_39_00000020_F.png',\n",
              " '/content/drive/MyDrive/딥러닝 팀플/data/일부 데이터/Training/01.원천데이터/TS_0436/0436_1963_21_00000008_F.png',\n",
              " '/content/drive/MyDrive/딥러닝 팀플/data/일부 데이터/Training/01.원천데이터/TS_0436/0436_1963_36_00000015_F.png',\n",
              " '/content/drive/MyDrive/딥러닝 팀플/data/일부 데이터/Training/01.원천데이터/TS_0436/0436_1963_57_00000041_D.png',\n",
              " '/content/drive/MyDrive/딥러닝 팀플/data/일부 데이터/Training/01.원천데이터/TS_0436/0436_1963_53_00000033_D.png',\n",
              " '/content/drive/MyDrive/딥러닝 팀플/data/일부 데이터/Training/01.원천데이터/TS_0436/0436_1963_60_00000046_D.png',\n",
              " '/content/drive/MyDrive/딥러닝 팀플/data/일부 데이터/Training/01.원천데이터/TS_0436/0436_1963_17_00000003_F.png',\n",
              " '/content/drive/MyDrive/딥러닝 팀플/data/일부 데이터/Training/01.원천데이터/TS_0436/0436_1963_51_00000029_D.png',\n",
              " '/content/drive/MyDrive/딥러닝 팀플/data/일부 데이터/Training/01.원천데이터/TS_0436/0436_1963_58_00000042_D.png',\n",
              " '/content/drive/MyDrive/딥러닝 팀플/data/일부 데이터/Training/01.원천데이터/TS_0436/0436_1963_36_00000016_F.png',\n",
              " '/content/drive/MyDrive/딥러닝 팀플/data/일부 데이터/Training/01.원천데이터/TS_0436/0436_1963_53_00000030_D.png',\n",
              " '/content/drive/MyDrive/딥러닝 팀플/data/일부 데이터/Training/01.원천데이터/TS_0436/0436_1963_38_00000019_F.png',\n",
              " '/content/drive/MyDrive/딥러닝 팀플/data/일부 데이터/Training/01.원천데이터/TS_0436/0436_1963_56_00000036_D.png',\n",
              " '/content/drive/MyDrive/딥러닝 팀플/data/일부 데이터/Training/01.원천데이터/TS_0436/0436_1963_57_00000040_D.png',\n",
              " '/content/drive/MyDrive/딥러닝 팀플/data/일부 데이터/Training/01.원천데이터/TS_0436/0436_1963_56_00000038_D.png',\n",
              " '/content/drive/MyDrive/딥러닝 팀플/data/일부 데이터/Training/01.원천데이터/TS_0436/0436_1963_54_00000034_D.png',\n",
              " '/content/drive/MyDrive/딥러닝 팀플/data/일부 데이터/Training/01.원천데이터/TS_0436/0436_1963_58_00000044_D.png',\n",
              " '/content/drive/MyDrive/딥러닝 팀플/data/일부 데이터/Training/01.원천데이터/TS_0436/0436_1963_43_00000024_F.png',\n",
              " '/content/drive/MyDrive/딥러닝 팀플/data/일부 데이터/Training/01.원천데이터/TS_0675/0675_1998_19_00000013_D.png',\n",
              " '/content/drive/MyDrive/딥러닝 팀플/data/일부 데이터/Training/01.원천데이터/TS_0675/0675_1998_16_00000008_D.png',\n",
              " '/content/drive/MyDrive/딥러닝 팀플/data/일부 데이터/Training/01.원천데이터/TS_0675/0675_1998_19_00000014_D.png',\n",
              " '/content/drive/MyDrive/딥러닝 팀플/data/일부 데이터/Training/01.원천데이터/TS_0675/0675_1998_19_00000015_D.png',\n",
              " '/content/drive/MyDrive/딥러닝 팀플/data/일부 데이터/Training/01.원천데이터/TS_0675/0675_1998_02_00000047_F.png',\n",
              " '/content/drive/MyDrive/딥러닝 팀플/data/일부 데이터/Training/01.원천데이터/TS_0675/0675_1998_16_00000009_D.png',\n",
              " '/content/drive/MyDrive/딥러닝 팀플/data/일부 데이터/Training/01.원천데이터/TS_0675/0675_1998_12_00000007_D.png',\n",
              " '/content/drive/MyDrive/딥러닝 팀플/data/일부 데이터/Training/01.원천데이터/TS_0675/0675_1998_10_00000001_D.png',\n",
              " '/content/drive/MyDrive/딥러닝 팀플/data/일부 데이터/Training/01.원천데이터/TS_0675/0675_1998_06_00000037_D.png',\n",
              " '/content/drive/MyDrive/딥러닝 팀플/data/일부 데이터/Training/01.원천데이터/TS_0675/0675_1998_03_00000048_F.png',\n",
              " '/content/drive/MyDrive/딥러닝 팀플/data/일부 데이터/Training/01.원천데이터/TS_0675/0675_1998_11_00000003_D.png',\n",
              " '/content/drive/MyDrive/딥러닝 팀플/data/일부 데이터/Training/01.원천데이터/TS_0675/0675_1998_22_00000026_D.png',\n",
              " '/content/drive/MyDrive/딥러닝 팀플/data/일부 데이터/Training/01.원천데이터/TS_0675/0675_1998_05_00000050_F.png',\n",
              " '/content/drive/MyDrive/딥러닝 팀플/data/일부 데이터/Training/01.원천데이터/TS_0675/0675_1998_12_00000006_D.png',\n",
              " '/content/drive/MyDrive/딥러닝 팀플/data/일부 데이터/Training/01.원천데이터/TS_0675/0675_1998_08_00000039_D.png',\n",
              " '/content/drive/MyDrive/딥러닝 팀플/data/일부 데이터/Training/01.원천데이터/TS_0675/0675_1998_20_00000018_D.png',\n",
              " '/content/drive/MyDrive/딥러닝 팀플/data/일부 데이터/Training/01.원천데이터/TS_0675/0675_1998_08_00000040_D.png',\n",
              " '/content/drive/MyDrive/딥러닝 팀플/data/일부 데이터/Training/01.원천데이터/TS_0675/0675_1998_15_00000046_F.png',\n",
              " '/content/drive/MyDrive/딥러닝 팀플/data/일부 데이터/Training/01.원천데이터/TS_0675/0675_1998_10_00000045_F.png',\n",
              " '/content/drive/MyDrive/딥러닝 팀플/data/일부 데이터/Training/01.원천데이터/TS_0675/0675_1998_04_00000049_F.png',\n",
              " '/content/drive/MyDrive/딥러닝 팀플/data/일부 데이터/Training/01.원천데이터/TS_0675/0675_1998_20_00000017_D.png',\n",
              " '/content/drive/MyDrive/딥러닝 팀플/data/일부 데이터/Training/01.원천데이터/TS_0675/0675_1998_01_00000043_F.png',\n",
              " '/content/drive/MyDrive/딥러닝 팀플/data/일부 데이터/Training/01.원천데이터/TS_0675/0675_1998_17_00000010_D.png',\n",
              " '/content/drive/MyDrive/딥러닝 팀플/data/일부 데이터/Training/01.원천데이터/TS_0675/0675_1998_01_00000044_F.png',\n",
              " '/content/drive/MyDrive/딥러닝 팀플/data/일부 데이터/Training/01.원천데이터/TS_0675/0675_1998_21_00000021_D.png',\n",
              " '/content/drive/MyDrive/딥러닝 팀플/data/일부 데이터/Training/01.원천데이터/TS_0675/0675_1998_18_00000012_D.png',\n",
              " '/content/drive/MyDrive/딥러닝 팀플/data/일부 데이터/Training/01.원천데이터/TS_0675/0675_1998_22_00000027_D.png',\n",
              " '/content/drive/MyDrive/딥러닝 팀플/data/일부 데이터/Training/01.원천데이터/TS_0675/0675_1998_20_00000020_D.png',\n",
              " '/content/drive/MyDrive/딥러닝 팀플/data/일부 데이터/Training/01.원천데이터/TS_0675/0675_1998_21_00000022_D.png',\n",
              " '/content/drive/MyDrive/딥러닝 팀플/data/일부 데이터/Training/01.원천데이터/TS_0675/0675_1998_23_00000031_D.png',\n",
              " '/content/drive/MyDrive/딥러닝 팀플/data/일부 데이터/Training/01.원천데이터/TS_0675/0675_1998_11_00000004_D.png',\n",
              " '/content/drive/MyDrive/딥러닝 팀플/data/일부 데이터/Training/01.원천데이터/TS_0675/0675_1998_21_00000023_D.png',\n",
              " '/content/drive/MyDrive/딥러닝 팀플/data/일부 데이터/Training/01.원천데이터/TS_0675/0675_1998_10_00000002_D.png',\n",
              " '/content/drive/MyDrive/딥러닝 팀플/data/일부 데이터/Training/01.원천데이터/TS_0675/0675_1998_23_00000030_D.png',\n",
              " '/content/drive/MyDrive/딥러닝 팀플/data/일부 데이터/Training/01.원천데이터/TS_0675/0675_1998_24_00000036_D.png',\n",
              " '/content/drive/MyDrive/딥러닝 팀플/data/일부 데이터/Training/01.원천데이터/TS_0675/0675_1998_11_00000005_D.png',\n",
              " '/content/drive/MyDrive/딥러닝 팀플/data/일부 데이터/Training/01.원천데이터/TS_0675/0675_1998_09_00000042_D.png',\n",
              " '/content/drive/MyDrive/딥러닝 팀플/data/일부 데이터/Training/01.원천데이터/TS_0675/0675_1998_21_00000024_D.png',\n",
              " '/content/drive/MyDrive/딥러닝 팀플/data/일부 데이터/Training/01.원천데이터/TS_0675/0675_1998_17_00000011_D.png',\n",
              " '/content/drive/MyDrive/딥러닝 팀플/data/일부 데이터/Training/01.원천데이터/TS_0675/0675_1998_19_00000016_D.png',\n",
              " '/content/drive/MyDrive/딥러닝 팀플/data/일부 데이터/Training/01.원천데이터/TS_0675/0675_1998_23_00000032_D.png',\n",
              " '/content/drive/MyDrive/딥러닝 팀플/data/일부 데이터/Training/01.원천데이터/TS_0675/0675_1998_22_00000025_D.png',\n",
              " '/content/drive/MyDrive/딥러닝 팀플/data/일부 데이터/Training/01.원천데이터/TS_0675/0675_1998_22_00000028_D.png',\n",
              " '/content/drive/MyDrive/딥러닝 팀플/data/일부 데이터/Training/01.원천데이터/TS_0675/0675_1998_24_00000034_D.png',\n",
              " '/content/drive/MyDrive/딥러닝 팀플/data/일부 데이터/Training/01.원천데이터/TS_0675/0675_1998_24_00000033_D.png',\n",
              " '/content/drive/MyDrive/딥러닝 팀플/data/일부 데이터/Training/01.원천데이터/TS_0675/0675_1998_23_00000029_D.png',\n",
              " '/content/drive/MyDrive/딥러닝 팀플/data/일부 데이터/Training/01.원천데이터/TS_0675/0675_1998_24_00000035_D.png',\n",
              " '/content/drive/MyDrive/딥러닝 팀플/data/일부 데이터/Training/01.원천데이터/TS_0675/0675_1998_20_00000019_D.png',\n",
              " '/content/drive/MyDrive/딥러닝 팀플/data/일부 데이터/Training/01.원천데이터/TS_0675/0675_1998_09_00000041_D.png',\n",
              " '/content/drive/MyDrive/딥러닝 팀플/data/일부 데이터/Training/01.원천데이터/TS_0675/0675_1998_07_00000038_D.png',\n",
              " '/content/drive/MyDrive/딥러닝 팀플/data/일부 데이터/Training/01.원천데이터/TS_0631/0631_1967_13_00000012_F.png',\n",
              " '/content/drive/MyDrive/딥러닝 팀플/data/일부 데이터/Training/01.원천데이터/TS_0631/0631_1967_56_00000009_D.png',\n",
              " '/content/drive/MyDrive/딥러닝 팀플/data/일부 데이터/Training/01.원천데이터/TS_0631/0631_1967_29_00000030_F.png',\n",
              " '/content/drive/MyDrive/딥러닝 팀플/data/일부 데이터/Training/01.원천데이터/TS_0631/0631_1967_17_00000016_F.png',\n",
              " '/content/drive/MyDrive/딥러닝 팀플/data/일부 데이터/Training/01.원천데이터/TS_0631/0631_1967_19_00000020_F.png',\n",
              " '/content/drive/MyDrive/딥러닝 팀플/data/일부 데이터/Training/01.원천데이터/TS_0631/0631_1967_43_00000043_F.png',\n",
              " '/content/drive/MyDrive/딥러닝 팀플/data/일부 데이터/Training/01.원천데이터/TS_0631/0631_1967_20_00000021_F.png',\n",
              " '/content/drive/MyDrive/딥러닝 팀플/data/일부 데이터/Training/01.원천데이터/TS_0631/0631_1967_17_00000017_F.png',\n",
              " '/content/drive/MyDrive/딥러닝 팀플/data/일부 데이터/Training/01.원천데이터/TS_0631/0631_1967_15_00000013_F.png',\n",
              " '/content/drive/MyDrive/딥러닝 팀플/data/일부 데이터/Training/01.원천데이터/TS_0631/0631_1967_52_00000004_D.png',\n",
              " '/content/drive/MyDrive/딥러닝 팀플/data/일부 데이터/Training/01.원천데이터/TS_0631/0631_1967_35_00000033_F.png',\n",
              " '/content/drive/MyDrive/딥러닝 팀플/data/일부 데이터/Training/01.원천데이터/TS_0631/0631_1967_09_00000050_F.png',\n",
              " '/content/drive/MyDrive/딥러닝 팀플/data/일부 데이터/Training/01.원천데이터/TS_0631/0631_1967_50_00000049_F.png',\n",
              " '/content/drive/MyDrive/딥러닝 팀플/data/일부 데이터/Training/01.원천데이터/TS_0631/0631_1967_24_00000027_F.png',\n",
              " '/content/drive/MyDrive/딥러닝 팀플/data/일부 데이터/Training/01.원천데이터/TS_0631/0631_1967_28_00000029_F.png',\n",
              " '/content/drive/MyDrive/딥러닝 팀플/data/일부 데이터/Training/01.원천데이터/TS_0631/0631_1967_45_00000045_F.png',\n",
              " '/content/drive/MyDrive/딥러닝 팀플/data/일부 데이터/Training/01.원천데이터/TS_0631/0631_1967_52_00000003_D.png',\n",
              " '/content/drive/MyDrive/딥러닝 팀플/data/일부 데이터/Training/01.원천데이터/TS_0631/0631_1967_22_00000025_F.png',\n",
              " '/content/drive/MyDrive/딥러닝 팀플/data/일부 데이터/Training/01.원천데이터/TS_0631/0631_1967_51_00000001_D.png',\n",
              " '/content/drive/MyDrive/딥러닝 팀플/data/일부 데이터/Training/01.원천데이터/TS_0631/0631_1967_21_00000023_F.png',\n",
              " '/content/drive/MyDrive/딥러닝 팀플/data/일부 데이터/Training/01.원천데이터/TS_0631/0631_1967_15_00000014_F.png',\n",
              " '/content/drive/MyDrive/딥러닝 팀플/data/일부 데이터/Training/01.원천데이터/TS_0631/0631_1967_25_00000028_F.png',\n",
              " '/content/drive/MyDrive/딥러닝 팀플/data/일부 데이터/Training/01.원천데이터/TS_0631/0631_1967_37_00000035_F.png',\n",
              " '/content/drive/MyDrive/딥러닝 팀플/data/일부 데이터/Training/01.원천데이터/TS_0631/0631_1967_35_00000034_F.png',\n",
              " '/content/drive/MyDrive/딥러닝 팀플/data/일부 데이터/Training/01.원천데이터/TS_0631/0631_1967_39_00000038_F.png',\n",
              " '/content/drive/MyDrive/딥러닝 팀플/data/일부 데이터/Training/01.원천데이터/TS_0631/0631_1967_55_00000007_D.png',\n",
              " '/content/drive/MyDrive/딥러닝 팀플/data/일부 데이터/Training/01.원천데이터/TS_0631/0631_1967_17_00000018_F.png',\n",
              " '/content/drive/MyDrive/딥러닝 팀플/data/일부 데이터/Training/01.원천데이터/TS_0631/0631_1967_41_00000041_F.png',\n",
              " '/content/drive/MyDrive/딥러닝 팀플/data/일부 데이터/Training/01.원천데이터/TS_0631/0631_1967_31_00000031_F.png',\n",
              " '/content/drive/MyDrive/딥러닝 팀플/data/일부 데이터/Training/01.원천데이터/TS_0631/0631_1967_39_00000039_F.png',\n",
              " '/content/drive/MyDrive/딥러닝 팀플/data/일부 데이터/Training/01.원천데이터/TS_0631/0631_1967_12_00000011_F.png',\n",
              " '/content/drive/MyDrive/딥러닝 팀플/data/일부 데이터/Training/01.원천데이터/TS_0631/0631_1967_24_00000026_F.png',\n",
              " '/content/drive/MyDrive/딥러닝 팀플/data/일부 데이터/Training/01.원천데이터/TS_0631/0631_1967_20_00000022_F.png',\n",
              " '/content/drive/MyDrive/딥러닝 팀플/data/일부 데이터/Training/01.원천데이터/TS_0631/0631_1967_16_00000015_F.png',\n",
              " '/content/drive/MyDrive/딥러닝 팀플/data/일부 데이터/Training/01.원천데이터/TS_0631/0631_1967_55_00000008_D.png',\n",
              " '/content/drive/MyDrive/딥러닝 팀플/data/일부 데이터/Training/01.원천데이터/TS_0631/0631_1967_46_00000046_F.png',\n",
              " '/content/drive/MyDrive/딥러닝 팀플/data/일부 데이터/Training/01.원천데이터/TS_0631/0631_1967_32_00000032_F.png',\n",
              " '/content/drive/MyDrive/딥러닝 팀플/data/일부 데이터/Training/01.원천데이터/TS_0631/0631_1967_56_00000010_D.png',\n",
              " '/content/drive/MyDrive/딥러닝 팀플/data/일부 데이터/Training/01.원천데이터/TS_0631/0631_1967_49_00000048_F.png',\n",
              " '/content/drive/MyDrive/딥러닝 팀플/data/일부 데이터/Training/01.원천데이터/TS_0631/0631_1967_51_00000002_D.png',\n",
              " '/content/drive/MyDrive/딥러닝 팀플/data/일부 데이터/Training/01.원천데이터/TS_0631/0631_1967_42_00000042_F.png',\n",
              " '/content/drive/MyDrive/딥러닝 팀플/data/일부 데이터/Training/01.원천데이터/TS_0631/0631_1967_53_00000005_D.png',\n",
              " '/content/drive/MyDrive/딥러닝 팀플/data/일부 데이터/Training/01.원천데이터/TS_0631/0631_1967_38_00000037_F.png',\n",
              " '/content/drive/MyDrive/딥러닝 팀플/data/일부 데이터/Training/01.원천데이터/TS_0631/0631_1967_54_00000006_D.png',\n",
              " '/content/drive/MyDrive/딥러닝 팀플/data/일부 데이터/Training/01.원천데이터/TS_0631/0631_1967_44_00000044_F.png',\n",
              " '/content/drive/MyDrive/딥러닝 팀플/data/일부 데이터/Training/01.원천데이터/TS_0631/0631_1967_40_00000040_F.png',\n",
              " '/content/drive/MyDrive/딥러닝 팀플/data/일부 데이터/Training/01.원천데이터/TS_0631/0631_1967_18_00000019_F.png',\n",
              " '/content/drive/MyDrive/딥러닝 팀플/data/일부 데이터/Training/01.원천데이터/TS_0631/0631_1967_21_00000024_F.png',\n",
              " '/content/drive/MyDrive/딥러닝 팀플/data/일부 데이터/Training/01.원천데이터/TS_0631/0631_1967_48_00000047_F.png',\n",
              " '/content/drive/MyDrive/딥러닝 팀플/data/일부 데이터/Training/01.원천데이터/TS_0631/0631_1967_37_00000036_F.png',\n",
              " '/content/drive/MyDrive/딥러닝 팀플/data/일부 데이터/Training/01.원천데이터/TS_0584/0584_1997_01_00000018_F.png',\n",
              " '/content/drive/MyDrive/딥러닝 팀플/data/일부 데이터/Training/01.원천데이터/TS_0584/0584_1997_09_00000047_F.png',\n",
              " '/content/drive/MyDrive/딥러닝 팀플/data/일부 데이터/Training/01.원천데이터/TS_0584/0584_1997_08_00000045_F.png',\n",
              " '/content/drive/MyDrive/딥러닝 팀플/data/일부 데이터/Training/01.원천데이터/TS_0584/0584_1997_07_00000041_F.png',\n",
              " '/content/drive/MyDrive/딥러닝 팀플/data/일부 데이터/Training/01.원천데이터/TS_0584/0584_1997_11_00000021_F.png',\n",
              " '/content/drive/MyDrive/딥러닝 팀플/data/일부 데이터/Training/01.원천데이터/TS_0584/0584_1997_09_00000048_F.png',\n",
              " '/content/drive/MyDrive/딥러닝 팀플/data/일부 데이터/Training/01.원천데이터/TS_0584/0584_1997_05_00000038_F.png',\n",
              " '/content/drive/MyDrive/딥러닝 팀플/data/일부 데이터/Training/01.원천데이터/TS_0584/0584_1997_03_00000034_F.png',\n",
              " '/content/drive/MyDrive/딥러닝 팀플/data/일부 데이터/Training/01.원천데이터/TS_0584/0584_1997_01_00000019_F.png',\n",
              " '/content/drive/MyDrive/딥러닝 팀플/data/일부 데이터/Training/01.원천데이터/TS_0584/0584_1997_22_00000003_D.png',\n",
              " '/content/drive/MyDrive/딥러닝 팀플/data/일부 데이터/Training/01.원천데이터/TS_0584/0584_1997_09_00000049_F.png',\n",
              " '/content/drive/MyDrive/딥러닝 팀플/data/일부 데이터/Training/01.원천데이터/TS_0584/0584_1997_08_00000044_F.png',\n",
              " '/content/drive/MyDrive/딥러닝 팀플/data/일부 데이터/Training/01.원천데이터/TS_0584/0584_1997_13_00000024_F.png',\n",
              " '/content/drive/MyDrive/딥러닝 팀플/data/일부 데이터/Training/01.원천데이터/TS_0584/0584_1997_06_00000040_F.png',\n",
              " '/content/drive/MyDrive/딥러닝 팀플/data/일부 데이터/Training/01.원천데이터/TS_0584/0584_1997_05_00000036_F.png',\n",
              " '/content/drive/MyDrive/딥러닝 팀플/data/일부 데이터/Training/01.원천데이터/TS_0584/0584_1997_04_00000035_F.png',\n",
              " '/content/drive/MyDrive/딥러닝 팀플/data/일부 데이터/Training/01.원천데이터/TS_0584/0584_1997_12_00000022_F.png',\n",
              " '/content/drive/MyDrive/딥러닝 팀플/data/일부 데이터/Training/01.원천데이터/TS_0584/0584_1997_14_00000025_F.png',\n",
              " '/content/drive/MyDrive/딥러닝 팀플/data/일부 데이터/Training/01.원천데이터/TS_0584/0584_1997_07_00000042_F.png',\n",
              " '/content/drive/MyDrive/딥러닝 팀플/data/일부 데이터/Training/01.원천데이터/TS_0584/0584_1997_08_00000043_F.png',\n",
              " '/content/drive/MyDrive/딥러닝 팀플/data/일부 데이터/Training/01.원천데이터/TS_0584/0584_1997_17_00000006_D.png',\n",
              " '/content/drive/MyDrive/딥러닝 팀플/data/일부 데이터/Training/01.원천데이터/TS_0584/0584_1997_09_00000046_F.png',\n",
              " '/content/drive/MyDrive/딥러닝 팀플/data/일부 데이터/Training/01.원천데이터/TS_0584/0584_1997_06_00000039_F.png',\n",
              " '/content/drive/MyDrive/딥러닝 팀플/data/일부 데이터/Training/01.원천데이터/TS_0584/0584_1997_09_00000050_F.png',\n",
              " '/content/drive/MyDrive/딥러닝 팀플/data/일부 데이터/Training/01.원천데이터/TS_0584/0584_1997_03_00000033_F.png',\n",
              " '/content/drive/MyDrive/딥러닝 팀플/data/일부 데이터/Training/01.원천데이터/TS_0584/0584_1997_05_00000037_F.png',\n",
              " '/content/drive/MyDrive/딥러닝 팀플/data/일부 데이터/Training/01.원천데이터/TS_0584/0584_1997_20_00000011_D.png',\n",
              " '/content/drive/MyDrive/딥러닝 팀플/data/일부 데이터/Training/01.원천데이터/TS_0584/0584_1997_22_00000014_D.png',\n",
              " '/content/drive/MyDrive/딥러닝 팀플/data/일부 데이터/Training/01.원천데이터/TS_0584/0584_1997_17_00000008_D.png',\n",
              " '/content/drive/MyDrive/딥러닝 팀플/data/일부 데이터/Training/01.원천데이터/TS_0584/0584_1997_17_00000007_D.png',\n",
              " '/content/drive/MyDrive/딥러닝 팀플/data/일부 데이터/Training/01.원천데이터/TS_0584/0584_1997_16_00000030_F.png',\n",
              " '/content/drive/MyDrive/딥러닝 팀플/data/일부 데이터/Training/01.원천데이터/TS_0584/0584_1997_16_00000031_F.png',\n",
              " '/content/drive/MyDrive/딥러닝 팀플/data/일부 데이터/Training/01.원천데이터/TS_0584/0584_1997_12_00000023_F.png',\n",
              " '/content/drive/MyDrive/딥러닝 팀플/data/일부 데이터/Training/01.원천데이터/TS_0584/0584_1997_23_00000005_D.png',\n",
              " '/content/drive/MyDrive/딥러닝 팀플/data/일부 데이터/Training/01.원천데이터/TS_0584/0584_1997_20_00000012_D.png',\n",
              " '/content/drive/MyDrive/딥러닝 팀플/data/일부 데이터/Training/01.원천데이터/TS_0584/0584_1997_10_00000020_F.png',\n",
              " '/content/drive/MyDrive/딥러닝 팀플/data/일부 데이터/Training/01.원천데이터/TS_0584/0584_1997_18_00000010_D.png',\n",
              " '/content/drive/MyDrive/딥러닝 팀플/data/일부 데이터/Training/01.원천데이터/TS_0584/0584_1997_21_00000013_D.png',\n",
              " '/content/drive/MyDrive/딥러닝 팀플/data/일부 데이터/Training/01.원천데이터/TS_0584/0584_1997_23_00000004_D.png',\n",
              " '/content/drive/MyDrive/딥러닝 팀플/data/일부 데이터/Training/01.원천데이터/TS_0584/0584_1997_15_00000029_F.png',\n",
              " '/content/drive/MyDrive/딥러닝 팀플/data/일부 데이터/Training/01.원천데이터/TS_0584/0584_1997_17_00000009_D.png',\n",
              " '/content/drive/MyDrive/딥러닝 팀플/data/일부 데이터/Training/01.원천데이터/TS_0584/0584_1997_24_00000017_D.png',\n",
              " '/content/drive/MyDrive/딥러닝 팀플/data/일부 데이터/Training/01.원천데이터/TS_0584/0584_1997_19_00000001_D.png',\n",
              " '/content/drive/MyDrive/딥러닝 팀플/data/일부 데이터/Training/01.원천데이터/TS_0584/0584_1997_19_00000002_D.png',\n",
              " '/content/drive/MyDrive/딥러닝 팀플/data/일부 데이터/Training/01.원천데이터/TS_0584/0584_1997_14_00000026_F.png',\n",
              " '/content/drive/MyDrive/딥러닝 팀플/data/일부 데이터/Training/01.원천데이터/TS_0584/0584_1997_15_00000027_F.png',\n",
              " '/content/drive/MyDrive/딥러닝 팀플/data/일부 데이터/Training/01.원천데이터/TS_0584/0584_1997_15_00000028_F.png',\n",
              " '/content/drive/MyDrive/딥러닝 팀플/data/일부 데이터/Training/01.원천데이터/TS_0584/0584_1997_23_00000015_D.png',\n",
              " '/content/drive/MyDrive/딥러닝 팀플/data/일부 데이터/Training/01.원천데이터/TS_0584/0584_1997_02_00000032_F.png',\n",
              " '/content/drive/MyDrive/딥러닝 팀플/data/일부 데이터/Training/01.원천데이터/TS_0584/0584_1997_24_00000016_D.png',\n",
              " '/content/drive/MyDrive/딥러닝 팀플/data/일부 데이터/Training/01.원천데이터/TS_0663/0663_1996_02_00000039_F.png',\n",
              " '/content/drive/MyDrive/딥러닝 팀플/data/일부 데이터/Training/01.원천데이터/TS_0663/0663_1996_13_00000032_F.png',\n",
              " '/content/drive/MyDrive/딥러닝 팀플/data/일부 데이터/Training/01.원천데이터/TS_0663/0663_1996_03_00000040_F.png',\n",
              " '/content/drive/MyDrive/딥러닝 팀플/data/일부 데이터/Training/01.원천데이터/TS_0663/0663_1996_21_00000010_D.png',\n",
              " '/content/drive/MyDrive/딥러닝 팀플/data/일부 데이터/Training/01.원천데이터/TS_0663/0663_1996_22_00000016_D.png',\n",
              " '/content/drive/MyDrive/딥러닝 팀플/data/일부 데이터/Training/01.원천데이터/TS_0663/0663_1996_10_00000023_F.png',\n",
              " '/content/drive/MyDrive/딥러닝 팀플/data/일부 데이터/Training/01.원천데이터/TS_0663/0663_1996_17_00000037_F.png',\n",
              " '/content/drive/MyDrive/딥러닝 팀플/data/일부 데이터/Training/01.원천데이터/TS_0663/0663_1996_17_00000036_F.png',\n",
              " '/content/drive/MyDrive/딥러닝 팀플/data/일부 데이터/Training/01.원천데이터/TS_0663/0663_1996_18_00000004_D.png',\n",
              " '/content/drive/MyDrive/딥러닝 팀플/data/일부 데이터/Training/01.원천데이터/TS_0663/0663_1996_20_00000009_D.png',\n",
              " '/content/drive/MyDrive/딥러닝 팀플/data/일부 데이터/Training/01.원천데이터/TS_0663/0663_1996_03_00000041_F.png',\n",
              " '/content/drive/MyDrive/딥러닝 팀플/data/일부 데이터/Training/01.원천데이터/TS_0663/0663_1996_04_00000043_F.png',\n",
              " '/content/drive/MyDrive/딥러닝 팀플/data/일부 데이터/Training/01.원천데이터/TS_0663/0663_1996_10_00000022_F.png',\n",
              " '/content/drive/MyDrive/딥러닝 팀플/data/일부 데이터/Training/01.원천데이터/TS_0663/0663_1996_12_00000030_F.png',\n",
              " '/content/drive/MyDrive/딥러닝 팀플/data/일부 데이터/Training/01.원천데이터/TS_0663/0663_1996_23_00000017_D.png',\n",
              " '/content/drive/MyDrive/딥러닝 팀플/data/일부 데이터/Training/01.원천데이터/TS_0663/0663_1996_08_00000049_F.png',\n",
              " '/content/drive/MyDrive/딥러닝 팀플/data/일부 데이터/Training/01.원천데이터/TS_0663/0663_1996_22_00000015_D.png',\n",
              " '/content/drive/MyDrive/딥러닝 팀플/data/일부 데이터/Training/01.원천데이터/TS_0663/0663_1996_25_00000021_D.png',\n",
              " '/content/drive/MyDrive/딥러닝 팀플/data/일부 데이터/Training/01.원천데이터/TS_0663/0663_1996_11_00000025_F.png',\n",
              " '/content/drive/MyDrive/딥러닝 팀플/data/일부 데이터/Training/01.원천데이터/TS_0663/0663_1996_23_00000018_D.png',\n",
              " '/content/drive/MyDrive/딥러닝 팀플/data/일부 데이터/Training/01.원천데이터/TS_0663/0663_1996_13_00000031_F.png',\n",
              " '/content/drive/MyDrive/딥러닝 팀플/data/일부 데이터/Training/01.원천데이터/TS_0663/0663_1996_06_00000046_F.png',\n",
              " '/content/drive/MyDrive/딥러닝 팀플/data/일부 데이터/Training/01.원천데이터/TS_0663/0663_1996_24_00000020_D.png',\n",
              " '/content/drive/MyDrive/딥러닝 팀플/data/일부 데이터/Training/01.원천데이터/TS_0663/0663_1996_09_00000050_F.png',\n",
              " '/content/drive/MyDrive/딥러닝 팀플/data/일부 데이터/Training/01.원천데이터/TS_0663/0663_1996_14_00000033_F.png',\n",
              " '/content/drive/MyDrive/딥러닝 팀플/data/일부 데이터/Training/01.원천데이터/TS_0663/0663_1996_07_00000048_F.png',\n",
              " '/content/drive/MyDrive/딥러닝 팀플/data/일부 데이터/Training/01.원천데이터/TS_0663/0663_1996_17_00000038_F.png',\n",
              " '/content/drive/MyDrive/딥러닝 팀플/data/일부 데이터/Training/01.원천데이터/TS_0663/0663_1996_07_00000047_F.png',\n",
              " '/content/drive/MyDrive/딥러닝 팀플/data/일부 데이터/Training/01.원천데이터/TS_0663/0663_1996_16_00000034_F.png',\n",
              " '/content/drive/MyDrive/딥러닝 팀플/data/일부 데이터/Training/01.원천데이터/TS_0663/0663_1996_21_00000014_D.png',\n",
              " '/content/drive/MyDrive/딥러닝 팀플/data/일부 데이터/Training/01.원천데이터/TS_0663/0663_1996_16_00000035_F.png',\n",
              " '/content/drive/MyDrive/딥러닝 팀플/data/일부 데이터/Training/01.원천데이터/TS_0663/0663_1996_19_00000007_D.png',\n",
              " '/content/drive/MyDrive/딥러닝 팀플/data/일부 데이터/Training/01.원천데이터/TS_0663/0663_1996_11_00000026_F.png',\n",
              " '/content/drive/MyDrive/딥러닝 팀플/data/일부 데이터/Training/01.원천데이터/TS_0663/0663_1996_19_00000005_D.png',\n",
              " '/content/drive/MyDrive/딥러닝 팀플/data/일부 데이터/Training/01.원천데이터/TS_0663/0663_1996_21_00000011_D.png',\n",
              " '/content/drive/MyDrive/딥러닝 팀플/data/일부 데이터/Training/01.원천데이터/TS_0663/0663_1996_20_00000008_D.png',\n",
              " '/content/drive/MyDrive/딥러닝 팀플/data/일부 데이터/Training/01.원천데이터/TS_0663/0663_1996_18_00000003_D.png',\n",
              " '/content/drive/MyDrive/딥러닝 팀플/data/일부 데이터/Training/01.원천데이터/TS_0663/0663_1996_05_00000044_F.png',\n",
              " '/content/drive/MyDrive/딥러닝 팀플/data/일부 데이터/Training/01.원천데이터/TS_0663/0663_1996_12_00000028_F.png',\n",
              " '/content/drive/MyDrive/딥러닝 팀플/data/일부 데이터/Training/01.원천데이터/TS_0663/0663_1996_04_00000042_F.png',\n",
              " '/content/drive/MyDrive/딥러닝 팀플/data/일부 데이터/Training/01.원천데이터/TS_0663/0663_1996_06_00000045_F.png',\n",
              " '/content/drive/MyDrive/딥러닝 팀플/data/일부 데이터/Training/01.원천데이터/TS_0663/0663_1996_11_00000027_F.png',\n",
              " '/content/drive/MyDrive/딥러닝 팀플/data/일부 데이터/Training/01.원천데이터/TS_0663/0663_1996_18_00000002_D.png',\n",
              " '/content/drive/MyDrive/딥러닝 팀플/data/일부 데이터/Training/01.원천데이터/TS_0663/0663_1996_18_00000001_D.png',\n",
              " '/content/drive/MyDrive/딥러닝 팀플/data/일부 데이터/Training/01.원천데이터/TS_0663/0663_1996_12_00000029_F.png',\n",
              " '/content/drive/MyDrive/딥러닝 팀플/data/일부 데이터/Training/01.원천데이터/TS_0663/0663_1996_19_00000006_D.png',\n",
              " '/content/drive/MyDrive/딥러닝 팀플/data/일부 데이터/Training/01.원천데이터/TS_0663/0663_1996_21_00000012_D.png',\n",
              " '/content/drive/MyDrive/딥러닝 팀플/data/일부 데이터/Training/01.원천데이터/TS_0663/0663_1996_21_00000013_D.png',\n",
              " '/content/drive/MyDrive/딥러닝 팀플/data/일부 데이터/Training/01.원천데이터/TS_0663/0663_1996_24_00000019_D.png',\n",
              " '/content/drive/MyDrive/딥러닝 팀플/data/일부 데이터/Training/01.원천데이터/TS_0663/0663_1996_10_00000024_F.png',\n",
              " '/content/drive/MyDrive/딥러닝 팀플/data/일부 데이터/Training/01.원천데이터/TS_0569/0569_1996_11_00000005_D.png',\n",
              " '/content/drive/MyDrive/딥러닝 팀플/data/일부 데이터/Training/01.원천데이터/TS_0569/0569_1996_10_00000002_D.png',\n",
              " '/content/drive/MyDrive/딥러닝 팀플/data/일부 데이터/Training/01.원천데이터/TS_0569/0569_1996_07_00000050_F.png',\n",
              " '/content/drive/MyDrive/딥러닝 팀플/data/일부 데이터/Training/01.원천데이터/TS_0569/0569_1996_02_00000036_F.png',\n",
              " '/content/drive/MyDrive/딥러닝 팀플/data/일부 데이터/Training/01.원천데이터/TS_0569/0569_1996_14_00000009_D.png',\n",
              " '/content/drive/MyDrive/딥러닝 팀플/data/일부 데이터/Training/01.원천데이터/TS_0569/0569_1996_17_00000015_D.png',\n",
              " '/content/drive/MyDrive/딥러닝 팀플/data/일부 데이터/Training/01.원천데이터/TS_0569/0569_1996_06_00000048_F.png',\n",
              " '/content/drive/MyDrive/딥러닝 팀플/data/일부 데이터/Training/01.원천데이터/TS_0569/0569_1996_22_00000020_D.png',\n",
              " '/content/drive/MyDrive/딥러닝 팀플/data/일부 데이터/Training/01.원천데이터/TS_0569/0569_1996_20_00000018_D.png',\n",
              " '/content/drive/MyDrive/딥러닝 팀플/data/일부 데이터/Training/01.원천데이터/TS_0569/0569_1996_04_00000044_F.png',\n",
              " '/content/drive/MyDrive/딥러닝 팀플/data/일부 데이터/Training/01.원천데이터/TS_0569/0569_1996_07_00000026_D.png',\n",
              " '/content/drive/MyDrive/딥러닝 팀플/data/일부 데이터/Training/01.원천데이터/TS_0569/0569_1996_16_00000012_D.png',\n",
              " '/content/drive/MyDrive/딥러닝 팀플/data/일부 데이터/Training/01.원천데이터/TS_0569/0569_1996_24_00000040_F.png',\n",
              " '/content/drive/MyDrive/딥러닝 팀플/data/일부 데이터/Training/01.원천데이터/TS_0569/0569_1996_11_00000004_D.png',\n",
              " '/content/drive/MyDrive/딥러닝 팀플/data/일부 데이터/Training/01.원천데이터/TS_0569/0569_1996_16_00000013_D.png',\n",
              " '/content/drive/MyDrive/딥러닝 팀플/data/일부 데이터/Training/01.원천데이터/TS_0569/0569_1996_17_00000016_D.png',\n",
              " '/content/drive/MyDrive/딥러닝 팀플/data/일부 데이터/Training/01.원천데이터/TS_0569/0569_1996_08_00000029_D.png',\n",
              " '/content/drive/MyDrive/딥러닝 팀플/data/일부 데이터/Training/01.원천데이터/TS_0569/0569_1996_16_00000011_D.png',\n",
              " '/content/drive/MyDrive/딥러닝 팀플/data/일부 데이터/Training/01.원천데이터/TS_0569/0569_1996_12_00000006_D.png',\n",
              " '/content/drive/MyDrive/딥러닝 팀플/data/일부 데이터/Training/01.원천데이터/TS_0569/0569_1996_24_00000039_F.png',\n",
              " '/content/drive/MyDrive/딥러닝 팀플/data/일부 데이터/Training/01.원천데이터/TS_0569/0569_1996_10_00000001_D.png',\n",
              " '/content/drive/MyDrive/딥러닝 팀플/data/일부 데이터/Training/01.원천데이터/TS_0569/0569_1996_25_00000023_D.png',\n",
              " '/content/drive/MyDrive/딥러닝 팀플/data/일부 데이터/Training/01.원천데이터/TS_0569/0569_1996_15_00000010_D.png',\n",
              " '/content/drive/MyDrive/딥러닝 팀플/data/일부 데이터/Training/01.원천데이터/TS_0569/0569_1996_18_00000033_F.png',\n",
              " '/content/drive/MyDrive/딥러닝 팀플/data/일부 데이터/Training/01.원천데이터/TS_0569/0569_1996_08_00000027_D.png',\n",
              " '/content/drive/MyDrive/딥러닝 팀플/data/일부 데이터/Training/01.원천데이터/TS_0569/0569_1996_14_00000008_D.png',\n",
              " '/content/drive/MyDrive/딥러닝 팀플/data/일부 데이터/Training/01.원천데이터/TS_0569/0569_1996_03_00000043_F.png',\n",
              " '/content/drive/MyDrive/딥러닝 팀플/data/일부 데이터/Training/01.원천데이터/TS_0569/0569_1996_02_00000035_F.png',\n",
              " '/content/drive/MyDrive/딥러닝 팀플/data/일부 데이터/Training/01.원천데이터/TS_0569/0569_1996_06_00000049_F.png',\n",
              " '/content/drive/MyDrive/딥러닝 팀플/data/일부 데이터/Training/01.원천데이터/TS_0569/0569_1996_11_00000003_D.png',\n",
              " '/content/drive/MyDrive/딥러닝 팀플/data/일부 데이터/Training/01.원천데이터/TS_0569/0569_1996_24_00000041_F.png',\n",
              " '/content/drive/MyDrive/딥러닝 팀플/data/일부 데이터/Training/01.원천데이터/TS_0569/0569_1996_16_00000014_D.png',\n",
              " '/content/drive/MyDrive/딥러닝 팀플/data/일부 데이터/Training/01.원천데이터/TS_0569/0569_1996_06_00000024_D.png',\n",
              " '/content/drive/MyDrive/딥러닝 팀플/data/일부 데이터/Training/01.원천데이터/TS_0569/0569_1996_04_00000045_F.png',\n",
              " '/content/drive/MyDrive/딥러닝 팀플/data/일부 데이터/Training/01.원천데이터/TS_0569/0569_1996_05_00000046_F.png',\n",
              " '/content/drive/MyDrive/딥러닝 팀플/data/일부 데이터/Training/01.원천데이터/TS_0569/0569_1996_07_00000025_D.png',\n",
              " '/content/drive/MyDrive/딥러닝 팀플/data/일부 데이터/Training/01.원천데이터/TS_0569/0569_1996_09_00000031_D.png',\n",
              " '/content/drive/MyDrive/딥러닝 팀플/data/일부 데이터/Training/01.원천데이터/TS_0569/0569_1996_02_00000037_F.png',\n",
              " '/content/drive/MyDrive/딥러닝 팀플/data/일부 데이터/Training/01.원천데이터/TS_0569/0569_1996_18_00000034_F.png',\n",
              " '/content/drive/MyDrive/딥러닝 팀플/data/일부 데이터/Training/01.원천데이터/TS_0569/0569_1996_09_00000030_D.png',\n",
              " '/content/drive/MyDrive/딥러닝 팀플/data/일부 데이터/Training/01.원천데이터/TS_0569/0569_1996_08_00000028_D.png',\n",
              " '/content/drive/MyDrive/딥러닝 팀플/data/일부 데이터/Training/01.원천데이터/TS_0569/0569_1996_05_00000047_F.png',\n",
              " '/content/drive/MyDrive/딥러닝 팀플/data/일부 데이터/Training/01.원천데이터/TS_0569/0569_1996_13_00000007_D.png',\n",
              " '/content/drive/MyDrive/딥러닝 팀플/data/일부 데이터/Training/01.원천데이터/TS_0569/0569_1996_03_00000042_F.png',\n",
              " '/content/drive/MyDrive/딥러닝 팀플/data/일부 데이터/Training/01.원천데이터/TS_0569/0569_1996_22_00000021_D.png',\n",
              " '/content/drive/MyDrive/딥러닝 팀플/data/일부 데이터/Training/01.원천데이터/TS_0569/0569_1996_21_00000038_F.png',\n",
              " '/content/drive/MyDrive/딥러닝 팀플/data/일부 데이터/Training/01.원천데이터/TS_0569/0569_1996_18_00000032_F.png',\n",
              " '/content/drive/MyDrive/딥러닝 팀플/data/일부 데이터/Training/01.원천데이터/TS_0569/0569_1996_17_00000017_D.png',\n",
              " '/content/drive/MyDrive/딥러닝 팀플/data/일부 데이터/Training/01.원천데이터/TS_0569/0569_1996_23_00000022_D.png',\n",
              " '/content/drive/MyDrive/딥러닝 팀플/data/일부 데이터/Training/01.원천데이터/TS_0569/0569_1996_22_00000019_D.png',\n",
              " '/content/drive/MyDrive/딥러닝 팀플/data/일부 데이터/Training/01.원천데이터/TS_0576/0576_1980_18_00000030_F.png',\n",
              " '/content/drive/MyDrive/딥러닝 팀플/data/일부 데이터/Training/01.원천데이터/TS_0576/0576_1980_23_00000036_F.png',\n",
              " '/content/drive/MyDrive/딥러닝 팀플/data/일부 데이터/Training/01.원천데이터/TS_0576/0576_1980_09_00000049_F.png',\n",
              " '/content/drive/MyDrive/딥러닝 팀플/data/일부 데이터/Training/01.원천데이터/TS_0576/0576_1980_09_00000050_F.png',\n",
              " '/content/drive/MyDrive/딥러닝 팀플/data/일부 데이터/Training/01.원천데이터/TS_0576/0576_1980_14_00000020_F.png',\n",
              " '/content/drive/MyDrive/딥러닝 팀플/data/일부 데이터/Training/01.원천데이터/TS_0576/0576_1980_01_00000016_F.png',\n",
              " '/content/drive/MyDrive/딥러닝 팀플/data/일부 데이터/Training/01.원천데이터/TS_0576/0576_1980_11_00000018_F.png',\n",
              " '/content/drive/MyDrive/딥러닝 팀플/data/일부 데이터/Training/01.원천데이터/TS_0576/0576_1980_03_00000041_F.png',\n",
              " '/content/drive/MyDrive/딥러닝 팀플/data/일부 데이터/Training/01.원천데이터/TS_0576/0576_1980_40_00000011_D.png',\n",
              " '/content/drive/MyDrive/딥러닝 팀플/data/일부 데이터/Training/01.원천데이터/TS_0576/0576_1980_29_00000040_F.png',\n",
              " '/content/drive/MyDrive/딥러닝 팀플/data/일부 데이터/Training/01.원천데이터/TS_0576/0576_1980_06_00000046_F.png',\n",
              " '/content/drive/MyDrive/딥러닝 팀플/data/일부 데이터/Training/01.원천데이터/TS_0576/0576_1980_15_00000022_F.png',\n",
              " '/content/drive/MyDrive/딥러닝 팀플/data/일부 데이터/Training/01.원천데이터/TS_0576/0576_1980_08_00000048_F.png',\n",
              " '/content/drive/MyDrive/딥러닝 팀플/data/일부 데이터/Training/01.원천데이터/TS_0576/0576_1980_21_00000035_F.png',\n",
              " '/content/drive/MyDrive/딥러닝 팀플/data/일부 데이터/Training/01.원천데이터/TS_0576/0576_1980_15_00000021_F.png',\n",
              " '/content/drive/MyDrive/딥러닝 팀플/data/일부 데이터/Training/01.원천데이터/TS_0576/0576_1980_10_00000017_F.png',\n",
              " '/content/drive/MyDrive/딥러닝 팀플/data/일부 데이터/Training/01.원천데이터/TS_0576/0576_1980_23_00000037_F.png',\n",
              " '/content/drive/MyDrive/딥러닝 팀플/data/일부 데이터/Training/01.원천데이터/TS_0576/0576_1980_07_00000047_F.png',\n",
              " '/content/drive/MyDrive/딥러닝 팀플/data/일부 데이터/Training/01.원천데이터/TS_0576/0576_1980_02_00000031_F.png',\n",
              " '/content/drive/MyDrive/딥러닝 팀플/data/일부 데이터/Training/01.원천데이터/TS_0576/0576_1980_16_00000025_F.png',\n",
              " '/content/drive/MyDrive/딥러닝 팀플/data/일부 데이터/Training/01.원천데이터/TS_0576/0576_1980_16_00000023_F.png',\n",
              " '/content/drive/MyDrive/딥러닝 팀플/data/일부 데이터/Training/01.원천데이터/TS_0576/0576_1980_31_00000043_F.png',\n",
              " '/content/drive/MyDrive/딥러닝 팀플/data/일부 데이터/Training/01.원천데이터/TS_0576/0576_1980_21_00000034_F.png',\n",
              " '/content/drive/MyDrive/딥러닝 팀플/data/일부 데이터/Training/01.원천데이터/TS_0576/0576_1980_17_00000026_F.png',\n",
              " '/content/drive/MyDrive/딥러닝 팀플/data/일부 데이터/Training/01.원천데이터/TS_0576/0576_1980_20_00000033_F.png',\n",
              " '/content/drive/MyDrive/딥러닝 팀플/data/일부 데이터/Training/01.원천데이터/TS_0576/0576_1980_41_00000012_D.png',\n",
              " '/content/drive/MyDrive/딥러닝 팀플/data/일부 데이터/Training/01.원천데이터/TS_0576/0576_1980_36_00000006_D.png',\n",
              " '/content/drive/MyDrive/딥러닝 팀플/data/일부 데이터/Training/01.원천데이터/TS_0576/0576_1980_30_00000042_F.png',\n",
              " '/content/drive/MyDrive/딥러닝 팀플/data/일부 데이터/Training/01.원천데이터/TS_0576/0576_1980_37_00000007_D.png',\n",
              " '/content/drive/MyDrive/딥러닝 팀플/data/일부 데이터/Training/01.원천데이터/TS_0576/0576_1980_26_00000039_F.png',\n",
              " '/content/drive/MyDrive/딥러닝 팀플/data/일부 데이터/Training/01.원천데이터/TS_0576/0576_1980_17_00000027_F.png',\n",
              " '/content/drive/MyDrive/딥러닝 팀플/data/일부 데이터/Training/01.원천데이터/TS_0576/0576_1980_42_00000013_D.png',\n",
              " '/content/drive/MyDrive/딥러닝 팀플/data/일부 데이터/Training/01.원천데이터/TS_0576/0576_1980_17_00000028_F.png',\n",
              " '/content/drive/MyDrive/딥러닝 팀플/data/일부 데이터/Training/01.원천데이터/TS_0576/0576_1980_12_00000019_F.png',\n",
              " '/content/drive/MyDrive/딥러닝 팀플/data/일부 데이터/Training/01.원천데이터/TS_0576/0576_1980_33_00000045_F.png',\n",
              " '/content/drive/MyDrive/딥러닝 팀플/data/일부 데이터/Training/01.원천데이터/TS_0576/0576_1980_43_00000014_D.png',\n",
              " '/content/drive/MyDrive/딥러닝 팀플/data/일부 데이터/Training/01.원천데이터/TS_0576/0576_1980_43_00000015_D.png',\n",
              " '/content/drive/MyDrive/딥러닝 팀플/data/일부 데이터/Training/01.원천데이터/TS_0576/0576_1980_38_00000008_D.png',\n",
              " '/content/drive/MyDrive/딥러닝 팀플/data/일부 데이터/Training/01.원천데이터/TS_0576/0576_1980_28_00000002_D.png',\n",
              " '/content/drive/MyDrive/딥러닝 팀플/data/일부 데이터/Training/01.원천데이터/TS_0576/0576_1980_39_00000010_D.png',\n",
              " '/content/drive/MyDrive/딥러닝 팀플/data/일부 데이터/Training/01.원천데이터/TS_0576/0576_1980_38_00000009_D.png',\n",
              " '/content/drive/MyDrive/딥러닝 팀플/data/일부 데이터/Training/01.원천데이터/TS_0576/0576_1980_28_00000001_D.png',\n",
              " '/content/drive/MyDrive/딥러닝 팀플/data/일부 데이터/Training/01.원천데이터/TS_0576/0576_1980_32_00000004_D.png',\n",
              " '/content/drive/MyDrive/딥러닝 팀플/data/일부 데이터/Training/01.원천데이터/TS_0576/0576_1980_32_00000003_D.png',\n",
              " '/content/drive/MyDrive/딥러닝 팀플/data/일부 데이터/Training/01.원천데이터/TS_0576/0576_1980_16_00000024_F.png',\n",
              " '/content/drive/MyDrive/딥러닝 팀플/data/일부 데이터/Training/01.원천데이터/TS_0576/0576_1980_20_00000032_F.png',\n",
              " '/content/drive/MyDrive/딥러닝 팀플/data/일부 데이터/Training/01.원천데이터/TS_0576/0576_1980_18_00000029_F.png',\n",
              " '/content/drive/MyDrive/딥러닝 팀플/data/일부 데이터/Training/01.원천데이터/TS_0576/0576_1980_35_00000005_D.png',\n",
              " '/content/drive/MyDrive/딥러닝 팀플/data/일부 데이터/Training/01.원천데이터/TS_0576/0576_1980_31_00000044_F.png',\n",
              " '/content/drive/MyDrive/딥러닝 팀플/data/일부 데이터/Training/01.원천데이터/TS_0576/0576_1980_24_00000038_F.png',\n",
              " '/content/drive/MyDrive/딥러닝 팀플/data/일부 데이터/Training/01.원천데이터/TS_0652/0652_1993_10_00000002_D.png',\n",
              " '/content/drive/MyDrive/딥러닝 팀플/data/일부 데이터/Training/01.원천데이터/TS_0652/0652_1993_02_00000035_F.png',\n",
              " '/content/drive/MyDrive/딥러닝 팀플/data/일부 데이터/Training/01.원천데이터/TS_0652/0652_1993_05_00000040_F.png',\n",
              " '/content/drive/MyDrive/딥러닝 팀플/data/일부 데이터/Training/01.원천데이터/TS_0652/0652_1993_19_00000018_D.png',\n",
              " '/content/drive/MyDrive/딥러닝 팀플/data/일부 데이터/Training/01.원천데이터/TS_0652/0652_1993_16_00000009_D.png',\n",
              " '/content/drive/MyDrive/딥러닝 팀플/data/일부 데이터/Training/01.원천데이터/TS_0652/0652_1993_29_00000030_D.png',\n",
              " '/content/drive/MyDrive/딥러닝 팀플/data/일부 데이터/Training/01.원천데이터/TS_0652/0652_1993_22_00000024_D.png',\n",
              " '/content/drive/MyDrive/딥러닝 팀플/data/일부 데이터/Training/01.원천데이터/TS_0652/0652_1993_06_00000041_F.png',\n",
              " '/content/drive/MyDrive/딥러닝 팀플/data/일부 데이터/Training/01.원천데이터/TS_0652/0652_1993_18_00000016_D.png',\n",
              " '/content/drive/MyDrive/딥러닝 팀플/data/일부 데이터/Training/01.원천데이터/TS_0652/0652_1993_21_00000023_D.png',\n",
              " '/content/drive/MyDrive/딥러닝 팀플/data/일부 데이터/Training/01.원천데이터/TS_0652/0652_1993_08_00000048_F.png',\n",
              " '/content/drive/MyDrive/딥러닝 팀플/data/일부 데이터/Training/01.원천데이터/TS_0652/0652_1993_14_00000008_D.png',\n",
              " '/content/drive/MyDrive/딥러닝 팀플/data/일부 데이터/Training/01.원천데이터/TS_0652/0652_1993_12_00000005_D.png',\n",
              " '/content/drive/MyDrive/딥러닝 팀플/data/일부 데이터/Training/01.원천데이터/TS_0652/0652_1993_08_00000047_F.png',\n",
              " '/content/drive/MyDrive/딥러닝 팀플/data/일부 데이터/Training/01.원천데이터/TS_0652/0652_1993_08_00000049_F.png',\n",
              " '/content/drive/MyDrive/딥러닝 팀플/data/일부 데이터/Training/01.원천데이터/TS_0652/0652_1993_19_00000020_D.png',\n",
              " '/content/drive/MyDrive/딥러닝 팀플/data/일부 데이터/Training/01.원천데이터/TS_0652/0652_1993_07_00000046_F.png',\n",
              " '/content/drive/MyDrive/딥러닝 팀플/data/일부 데이터/Training/01.원천데이터/TS_0652/0652_1993_07_00000044_F.png',\n",
              " '/content/drive/MyDrive/딥러닝 팀플/data/일부 데이터/Training/01.원천데이터/TS_0652/0652_1993_13_00000006_D.png',\n",
              " '/content/drive/MyDrive/딥러닝 팀플/data/일부 데이터/Training/01.원천데이터/TS_0652/0652_1993_13_00000007_D.png',\n",
              " '/content/drive/MyDrive/딥러닝 팀플/data/일부 데이터/Training/01.원천데이터/TS_0652/0652_1993_01_00000034_F.png',\n",
              " '/content/drive/MyDrive/딥러닝 팀플/data/일부 데이터/Training/01.원천데이터/TS_0652/0652_1993_01_00000032_F.png',\n",
              " '/content/drive/MyDrive/딥러닝 팀플/data/일부 데이터/Training/01.원천데이터/TS_0652/0652_1993_23_00000025_D.png',\n",
              " '/content/drive/MyDrive/딥러닝 팀플/data/일부 데이터/Training/01.원천데이터/TS_0652/0652_1993_26_00000028_D.png',\n",
              " '/content/drive/MyDrive/딥러닝 팀플/data/일부 데이터/Training/01.원천데이터/TS_0652/0652_1993_03_00000037_F.png',\n",
              " '/content/drive/MyDrive/딥러닝 팀플/data/일부 데이터/Training/01.원천데이터/TS_0652/0652_1993_30_00000031_D.png',\n",
              " '/content/drive/MyDrive/딥러닝 팀플/data/일부 데이터/Training/01.원천데이터/TS_0652/0652_1993_08_00000050_F.png',\n",
              " '/content/drive/MyDrive/딥러닝 팀플/data/일부 데이터/Training/01.원천데이터/TS_0652/0652_1993_19_00000019_D.png',\n",
              " '/content/drive/MyDrive/딥러닝 팀플/data/일부 데이터/Training/01.원천데이터/TS_0652/0652_1993_01_00000033_F.png',\n",
              " '/content/drive/MyDrive/딥러닝 팀플/data/일부 데이터/Training/01.원천데이터/TS_0652/0652_1993_18_00000015_D.png',\n",
              " '/content/drive/MyDrive/딥러닝 팀플/data/일부 데이터/Training/01.원천데이터/TS_0652/0652_1993_17_00000012_D.png',\n",
              " '/content/drive/MyDrive/딥러닝 팀플/data/일부 데이터/Training/01.원천데이터/TS_0652/0652_1993_20_00000021_D.png',\n",
              " '/content/drive/MyDrive/딥러닝 팀플/data/일부 데이터/Training/01.원천데이터/TS_0652/0652_1993_11_00000004_D.png',\n",
              " '/content/drive/MyDrive/딥러닝 팀플/data/일부 데이터/Training/01.원천데이터/TS_0652/0652_1993_04_00000038_F.png',\n",
              " '/content/drive/MyDrive/딥러닝 팀플/data/일부 데이터/Training/01.원천데이터/TS_0652/0652_1993_17_00000013_D.png',\n",
              " '/content/drive/MyDrive/딥러닝 팀플/data/일부 데이터/Training/01.원천데이터/TS_0652/0652_1993_19_00000017_D.png',\n",
              " '/content/drive/MyDrive/딥러닝 팀플/data/일부 데이터/Training/01.원천데이터/TS_0652/0652_1993_04_00000039_F.png',\n",
              " '/content/drive/MyDrive/딥러닝 팀플/data/일부 데이터/Training/01.원천데이터/TS_0652/0652_1993_24_00000026_D.png',\n",
              " '/content/drive/MyDrive/딥러닝 팀플/data/일부 데이터/Training/01.원천데이터/TS_0652/0652_1993_06_00000043_F.png',\n",
              " '/content/drive/MyDrive/딥러닝 팀플/data/일부 데이터/Training/01.원천데이터/TS_0652/0652_1993_06_00000042_F.png',\n",
              " '/content/drive/MyDrive/딥러닝 팀플/data/일부 데이터/Training/01.원천데이터/TS_0652/0652_1993_10_00000003_D.png',\n",
              " '/content/drive/MyDrive/딥러닝 팀플/data/일부 데이터/Training/01.원천데이터/TS_0652/0652_1993_20_00000022_D.png',\n",
              " '/content/drive/MyDrive/딥러닝 팀플/data/일부 데이터/Training/01.원천데이터/TS_0652/0652_1993_07_00000045_F.png',\n",
              " '/content/drive/MyDrive/딥러닝 팀플/data/일부 데이터/Training/01.원천데이터/TS_0652/0652_1993_17_00000011_D.png',\n",
              " '/content/drive/MyDrive/딥러닝 팀플/data/일부 데이터/Training/01.원천데이터/TS_0652/0652_1993_25_00000027_D.png',\n",
              " '/content/drive/MyDrive/딥러닝 팀플/data/일부 데이터/Training/01.원천데이터/TS_0652/0652_1993_27_00000029_D.png',\n",
              " '/content/drive/MyDrive/딥러닝 팀플/data/일부 데이터/Training/01.원천데이터/TS_0652/0652_1993_10_00000001_D.png',\n",
              " '/content/drive/MyDrive/딥러닝 팀플/data/일부 데이터/Training/01.원천데이터/TS_0652/0652_1993_16_00000010_D.png',\n",
              " '/content/drive/MyDrive/딥러닝 팀플/data/일부 데이터/Training/01.원천데이터/TS_0652/0652_1993_18_00000014_D.png',\n",
              " '/content/drive/MyDrive/딥러닝 팀플/data/일부 데이터/Training/01.원천데이터/TS_0652/0652_1993_02_00000036_F.png',\n",
              " '/content/drive/MyDrive/딥러닝 팀플/data/일부 데이터/Training/01.원천데이터/TS_0502/0502_2000_17_00000024_D.png',\n",
              " '/content/drive/MyDrive/딥러닝 팀플/data/일부 데이터/Training/01.원천데이터/TS_0502/0502_2000_06_00000007_F.png',\n",
              " '/content/drive/MyDrive/딥러닝 팀플/data/일부 데이터/Training/01.원천데이터/TS_0502/0502_2000_05_00000006_F.png',\n",
              " '/content/drive/MyDrive/딥러닝 팀플/data/일부 데이터/Training/01.원천데이터/TS_0502/0502_2000_15_00000019_D.png',\n",
              " '/content/drive/MyDrive/딥러닝 팀플/data/일부 데이터/Training/01.원천데이터/TS_0502/0502_2000_19_00000034_D.png',\n",
              " '/content/drive/MyDrive/딥러닝 팀플/data/일부 데이터/Training/01.원천데이터/TS_0502/0502_2000_18_00000029_D.png',\n",
              " '/content/drive/MyDrive/딥러닝 팀플/data/일부 데이터/Training/01.원천데이터/TS_0502/0502_2000_23_00000047_D.png',\n",
              " '/content/drive/MyDrive/딥러닝 팀플/data/일부 데이터/Training/01.원천데이터/TS_0502/0502_2000_19_00000032_D.png',\n",
              " '/content/drive/MyDrive/딥러닝 팀플/data/일부 데이터/Training/01.원천데이터/TS_0502/0502_2000_17_00000025_D.png',\n",
              " '/content/drive/MyDrive/딥러닝 팀플/data/일부 데이터/Training/01.원천데이터/TS_0502/0502_2000_09_00000011_F.png',\n",
              " '/content/drive/MyDrive/딥러닝 팀플/data/일부 데이터/Training/01.원천데이터/TS_0502/0502_2000_20_00000036_D.png',\n",
              " '/content/drive/MyDrive/딥러닝 팀플/data/일부 데이터/Training/01.원천데이터/TS_0502/0502_2000_08_00000009_F.png',\n",
              " '/content/drive/MyDrive/딥러닝 팀플/data/일부 데이터/Training/01.원천데이터/TS_0502/0502_2000_23_00000046_D.png',\n",
              " '/content/drive/MyDrive/딥러닝 팀플/data/일부 데이터/Training/01.원천데이터/TS_0502/0502_2000_20_00000038_D.png',\n",
              " '/content/drive/MyDrive/딥러닝 팀플/data/일부 데이터/Training/01.원천데이터/TS_0502/0502_2000_22_00000044_D.png',\n",
              " '/content/drive/MyDrive/딥러닝 팀플/data/일부 데이터/Training/01.원천데이터/TS_0502/0502_2000_10_00000013_F.png',\n",
              " '/content/drive/MyDrive/딥러닝 팀플/data/일부 데이터/Training/01.원천데이터/TS_0502/0502_2000_16_00000022_D.png',\n",
              " '/content/drive/MyDrive/딥러닝 팀플/data/일부 데이터/Training/01.원천데이터/TS_0502/0502_2000_13_00000016_F.png',\n",
              " '/content/drive/MyDrive/딥러닝 팀플/data/일부 데이터/Training/01.원천데이터/TS_0502/0502_2000_01_00000001_F.png',\n",
              " '/content/drive/MyDrive/딥러닝 팀플/data/일부 데이터/Training/01.원천데이터/TS_0502/0502_2000_22_00000045_D.png',\n",
              " '/content/drive/MyDrive/딥러닝 팀플/data/일부 데이터/Training/01.원천데이터/TS_0502/0502_2000_18_00000028_D.png',\n",
              " '/content/drive/MyDrive/딥러닝 팀플/data/일부 데이터/Training/01.원천데이터/TS_0502/0502_2000_14_00000018_D.png',\n",
              " '/content/drive/MyDrive/딥러닝 팀플/data/일부 데이터/Training/01.원천데이터/TS_0502/0502_2000_11_00000014_F.png',\n",
              " '/content/drive/MyDrive/딥러닝 팀플/data/일부 데이터/Training/01.원천데이터/TS_0502/0502_2000_03_00000004_F.png',\n",
              " '/content/drive/MyDrive/딥러닝 팀플/data/일부 데이터/Training/01.원천데이터/TS_0502/0502_2000_02_00000002_F.png',\n",
              " '/content/drive/MyDrive/딥러닝 팀플/data/일부 데이터/Training/01.원천데이터/TS_0502/0502_2000_04_00000005_F.png',\n",
              " '/content/drive/MyDrive/딥러닝 팀플/data/일부 데이터/Training/01.원천데이터/TS_0502/0502_2000_21_00000040_D.png',\n",
              " '/content/drive/MyDrive/딥러닝 팀플/data/일부 데이터/Training/01.원천데이터/TS_0502/0502_2000_08_00000010_F.png',\n",
              " '/content/drive/MyDrive/딥러닝 팀플/data/일부 데이터/Training/01.원천데이터/TS_0502/0502_2000_19_00000035_D.png',\n",
              " '/content/drive/MyDrive/딥러닝 팀플/data/일부 데이터/Training/01.원천데이터/TS_0502/0502_2000_22_00000042_D.png',\n",
              " '/content/drive/MyDrive/딥러닝 팀플/data/일부 데이터/Training/01.원천데이터/TS_0502/0502_2000_12_00000015_F.png',\n",
              " '/content/drive/MyDrive/딥러닝 팀플/data/일부 데이터/Training/01.원천데이터/TS_0502/0502_2000_23_00000050_D.png',\n",
              " '/content/drive/MyDrive/딥러닝 팀플/data/일부 데이터/Training/01.원천데이터/TS_0502/0502_2000_15_00000020_D.png',\n",
              " '/content/drive/MyDrive/딥러닝 팀플/data/일부 데이터/Training/01.원천데이터/TS_0502/0502_2000_17_00000023_D.png',\n",
              " '/content/drive/MyDrive/딥러닝 팀플/data/일부 데이터/Training/01.원천데이터/TS_0502/0502_2000_17_00000026_D.png',\n",
              " '/content/drive/MyDrive/딥러닝 팀플/data/일부 데이터/Training/01.원천데이터/TS_0502/0502_2000_19_00000033_D.png',\n",
              " '/content/drive/MyDrive/딥러닝 팀플/data/일부 데이터/Training/01.원천데이터/TS_0502/0502_2000_21_00000039_D.png',\n",
              " '/content/drive/MyDrive/딥러닝 팀플/data/일부 데이터/Training/01.원천데이터/TS_0502/0502_2000_07_00000008_F.png',\n",
              " '/content/drive/MyDrive/딥러닝 팀플/data/일부 데이터/Training/01.원천데이터/TS_0502/0502_2000_15_00000021_D.png',\n",
              " '/content/drive/MyDrive/딥러닝 팀플/data/일부 데이터/Training/01.원천데이터/TS_0502/0502_2000_19_00000031_D.png',\n",
              " '/content/drive/MyDrive/딥러닝 팀플/data/일부 데이터/Training/01.원천데이터/TS_0502/0502_2000_13_00000017_F.png',\n",
              " '/content/drive/MyDrive/딥러닝 팀플/data/일부 데이터/Training/01.원천데이터/TS_0502/0502_2000_03_00000003_F.png',\n",
              " '/content/drive/MyDrive/딥러닝 팀플/data/일부 데이터/Training/01.원천데이터/TS_0502/0502_2000_18_00000027_D.png',\n",
              " '/content/drive/MyDrive/딥러닝 팀플/data/일부 데이터/Training/01.원천데이터/TS_0502/0502_2000_19_00000030_D.png',\n",
              " '/content/drive/MyDrive/딥러닝 팀플/data/일부 데이터/Training/01.원천데이터/TS_0502/0502_2000_10_00000012_F.png',\n",
              " '/content/drive/MyDrive/딥러닝 팀플/data/일부 데이터/Training/01.원천데이터/TS_0502/0502_2000_20_00000037_D.png',\n",
              " '/content/drive/MyDrive/딥러닝 팀플/data/일부 데이터/Training/01.원천데이터/TS_0502/0502_2000_23_00000049_D.png',\n",
              " '/content/drive/MyDrive/딥러닝 팀플/data/일부 데이터/Training/01.원천데이터/TS_0502/0502_2000_22_00000041_D.png',\n",
              " '/content/drive/MyDrive/딥러닝 팀플/data/일부 데이터/Training/01.원천데이터/TS_0502/0502_2000_23_00000048_D.png',\n",
              " '/content/drive/MyDrive/딥러닝 팀플/data/일부 데이터/Training/01.원천데이터/TS_0502/0502_2000_22_00000043_D.png',\n",
              " '/content/drive/MyDrive/딥러닝 팀플/data/일부 데이터/Training/01.원천데이터/TS_0735/0735_1975_01_00000020_F.png',\n",
              " '/content/drive/MyDrive/딥러닝 팀플/data/일부 데이터/Training/01.원천데이터/TS_0735/0735_1975_09_00000050_F.png',\n",
              " '/content/drive/MyDrive/딥러닝 팀플/data/일부 데이터/Training/01.원천데이터/TS_0735/0735_1975_39_00000011_F.png',\n",
              " '/content/drive/MyDrive/딥러닝 팀플/data/일부 데이터/Training/01.원천데이터/TS_0735/0735_1975_34_00000005_F.png',\n",
              " '/content/drive/MyDrive/딥러닝 팀플/data/일부 데이터/Training/01.원천데이터/TS_0735/0735_1975_14_00000026_F.png',\n",
              " '/content/drive/MyDrive/딥러닝 팀플/data/일부 데이터/Training/01.원천데이터/TS_0735/0735_1975_05_00000047_F.png',\n",
              " '/content/drive/MyDrive/딥러닝 팀플/data/일부 데이터/Training/01.원천데이터/TS_0735/0735_1975_24_00000036_F.png',\n",
              " '/content/drive/MyDrive/딥러닝 팀플/data/일부 데이터/Training/01.원천데이터/TS_0735/0735_1975_01_00000021_F.png',\n",
              " '/content/drive/MyDrive/딥러닝 팀플/data/일부 데이터/Training/01.원천데이터/TS_0735/0735_1975_32_00000001_F.png',\n",
              " '/content/drive/MyDrive/딥러닝 팀플/data/일부 데이터/Training/01.원천데이터/TS_0735/0735_1975_07_00000048_F.png',\n",
              " '/content/drive/MyDrive/딥러닝 팀플/data/일부 데이터/Training/01.원천데이터/TS_0735/0735_1975_05_00000046_F.png',\n",
              " '/content/drive/MyDrive/딥러닝 팀플/data/일부 데이터/Training/01.원천데이터/TS_0735/0735_1975_28_00000042_F.png',\n",
              " '/content/drive/MyDrive/딥러닝 팀플/data/일부 데이터/Training/01.원천데이터/TS_0735/0735_1975_29_00000043_F.png',\n",
              " '/content/drive/MyDrive/딥러닝 팀플/data/일부 데이터/Training/01.원천데이터/TS_0735/0735_1975_14_00000025_F.png',\n",
              " '/content/drive/MyDrive/딥러닝 팀플/data/일부 데이터/Training/01.원천데이터/TS_0735/0735_1975_40_00000013_F.png',\n",
              " '/content/drive/MyDrive/딥러닝 팀플/data/일부 데이터/Training/01.원천데이터/TS_0735/0735_1975_27_00000040_F.png',\n",
              " '/content/drive/MyDrive/딥러닝 팀플/data/일부 데이터/Training/01.원천데이터/TS_0735/0735_1975_26_00000039_F.png',\n",
              " '/content/drive/MyDrive/딥러닝 팀플/data/일부 데이터/Training/01.원천데이터/TS_0735/0735_1975_20_00000031_F.png',\n",
              " '/content/drive/MyDrive/딥러닝 팀플/data/일부 데이터/Training/01.원천데이터/TS_0735/0735_1975_38_00000010_F.png',\n",
              " '/content/drive/MyDrive/딥러닝 팀플/data/일부 데이터/Training/01.원천데이터/TS_0735/0735_1975_28_00000041_F.png',\n",
              " '/content/drive/MyDrive/딥러닝 팀플/data/일부 데이터/Training/01.원천데이터/TS_0735/0735_1975_19_00000030_F.png',\n",
              " '/content/drive/MyDrive/딥러닝 팀플/data/일부 데이터/Training/01.원천데이터/TS_0735/0735_1975_07_00000049_F.png',\n",
              " '/content/drive/MyDrive/딥러닝 팀플/data/일부 데이터/Training/01.원천데이터/TS_0735/0735_1975_15_00000027_F.png',\n",
              " '/content/drive/MyDrive/딥러닝 팀플/data/일부 데이터/Training/01.원천데이터/TS_0735/0735_1975_37_00000009_F.png',\n",
              " '/content/drive/MyDrive/딥러닝 팀플/data/일부 데이터/Training/01.원천데이터/TS_0735/0735_1975_12_00000023_F.png',\n",
              " '/content/drive/MyDrive/딥러닝 팀플/data/일부 데이터/Training/01.원천데이터/TS_0735/0735_1975_33_00000004_F.png',\n",
              " '/content/drive/MyDrive/딥러닝 팀플/data/일부 데이터/Training/01.원천데이터/TS_0735/0735_1975_25_00000038_F.png',\n",
              " '/content/drive/MyDrive/딥러닝 팀플/data/일부 데이터/Training/01.원천데이터/TS_0735/0735_1975_23_00000034_F.png',\n",
              " '/content/drive/MyDrive/딥러닝 팀플/data/일부 데이터/Training/01.원천데이터/TS_0735/0735_1975_43_00000015_F.png',\n",
              " '/content/drive/MyDrive/딥러닝 팀플/data/일부 데이터/Training/01.원천데이터/TS_0735/0735_1975_18_00000029_F.png',\n",
              " '/content/drive/MyDrive/딥러닝 팀플/data/일부 데이터/Training/01.원천데이터/TS_0735/0735_1975_36_00000008_F.png',\n",
              " '/content/drive/MyDrive/딥러닝 팀플/data/일부 데이터/Training/01.원천데이터/TS_0735/0735_1975_12_00000024_F.png',\n",
              " '/content/drive/MyDrive/딥러닝 팀플/data/일부 데이터/Training/01.원천데이터/TS_0735/0735_1975_11_00000022_F.png',\n",
              " '/content/drive/MyDrive/딥러닝 팀플/data/일부 데이터/Training/01.원천데이터/TS_0735/0735_1975_22_00000033_F.png',\n",
              " '/content/drive/MyDrive/딥러닝 팀플/data/일부 데이터/Training/01.원천데이터/TS_0735/0735_1975_23_00000035_F.png',\n",
              " '/content/drive/MyDrive/딥러닝 팀플/data/일부 데이터/Training/01.원천데이터/TS_0735/0735_1975_35_00000007_F.png',\n",
              " '/content/drive/MyDrive/딥러닝 팀플/data/일부 데이터/Training/01.원천데이터/TS_0735/0735_1975_43_00000014_F.png',\n",
              " '/content/drive/MyDrive/딥러닝 팀플/data/일부 데이터/Training/01.원천데이터/TS_0735/0735_1975_15_00000028_F.png',\n",
              " '/content/drive/MyDrive/딥러닝 팀플/data/일부 데이터/Training/01.원천데이터/TS_0735/0735_1975_29_00000044_F.png',\n",
              " '/content/drive/MyDrive/딥러닝 팀플/data/일부 데이터/Training/01.원천데이터/TS_0735/0735_1975_44_00000016_F.png',\n",
              " '/content/drive/MyDrive/딥러닝 팀플/data/일부 데이터/Training/01.원천데이터/TS_0735/0735_1975_45_00000017_F.png',\n",
              " '/content/drive/MyDrive/딥러닝 팀플/data/일부 데이터/Training/01.원천데이터/TS_0735/0735_1975_40_00000012_F.png',\n",
              " '/content/drive/MyDrive/딥러닝 팀플/data/일부 데이터/Training/01.원천데이터/TS_0735/0735_1975_04_00000045_F.png',\n",
              " '/content/drive/MyDrive/딥러닝 팀플/data/일부 데이터/Training/01.원천데이터/TS_0735/0735_1975_48_00000019_F.png',\n",
              " '/content/drive/MyDrive/딥러닝 팀플/data/일부 데이터/Training/01.원천데이터/TS_0735/0735_1975_35_00000006_F.png',\n",
              " '/content/drive/MyDrive/딥러닝 팀플/data/일부 데이터/Training/01.원천데이터/TS_0735/0735_1975_46_00000018_F.png',\n",
              " '/content/drive/MyDrive/딥러닝 팀플/data/일부 데이터/Training/01.원천데이터/TS_0735/0735_1975_22_00000032_F.png',\n",
              " '/content/drive/MyDrive/딥러닝 팀플/data/일부 데이터/Training/01.원천데이터/TS_0735/0735_1975_24_00000037_F.png',\n",
              " '/content/drive/MyDrive/딥러닝 팀플/data/일부 데이터/Training/01.원천데이터/TS_0735/0735_1975_33_00000003_F.png',\n",
              " '/content/drive/MyDrive/딥러닝 팀플/data/일부 데이터/Training/01.원천데이터/TS_0735/0735_1975_33_00000002_F.png',\n",
              " ...]"
            ]
          },
          "metadata": {},
          "execution_count": 23
        }
      ]
    },
    {
      "cell_type": "code",
      "source": [
        "original_img = []\n",
        "zoom_img = []\n",
        "Y_index = []\n",
        "for idex, image_dir in enumerate(image_paths):\n",
        "  if not image_dir.endswith('png'):\n",
        "    continue\n",
        "  img = uder10mb_image(image_dir)  # 10mb이하 이미지 읽기\n",
        "  if img is None:\n",
        "    continue\n",
        "  xywh = corr(labels[idex]['annotation'][0])\n",
        "\n",
        "  # xywh에서 x, y, w, h 추출\n",
        "  x, y, w, h = xywh\n",
        "\n",
        "  # 이미지 슬라이싱 범위 계산\n",
        "  x_start = int(x)\n",
        "  x_end = int(x + w)\n",
        "  y_start = int(y)\n",
        "  y_end = int(y + h)\n",
        "\n",
        "  # 이미지 슬라이싱\n",
        "  cropped_img = img[y_start:y_end, x_start:x_end, :]\n",
        "\n",
        "  img = cv2.resize(img, (64, 64), interpolation=cv2.INTER_NEAREST)\n",
        "  img2 = cv2.resize(cropped_img, (64, 64), interpolation=cv2.INTER_NEAREST)\n",
        "\n",
        "  original_img.append(img)\n",
        "  zoom_img.append(img2)\n",
        "  Y_index.append(idex)"
      ],
      "metadata": {
        "id": "fZ7Wdl3Sy7xw"
      },
      "execution_count": null,
      "outputs": []
    },
    {
      "cell_type": "code",
      "source": [
        "def ages(age_past):\n",
        "    age = [0] * 3\n",
        "    index = age_past // 10\n",
        "    if index < 2:\n",
        "      age[0] = 1\n",
        "    if 2 <= index < 4:\n",
        "      age[1] = 1\n",
        "    if index >= 4:\n",
        "      age[2] = 1\n",
        "    return age\n",
        "\n",
        "label = ages(labels[1]['age_past'])\n",
        "label"
      ],
      "metadata": {
        "colab": {
          "base_uri": "https://localhost:8080/"
        },
        "id": "XRJIWoL60P1X",
        "outputId": "fe67b036-86d2-4c41-9a93-7b1fff562154"
      },
      "execution_count": null,
      "outputs": [
        {
          "output_type": "execute_result",
          "data": {
            "text/plain": [
              "[1, 0, 0]"
            ]
          },
          "metadata": {},
          "execution_count": 25
        }
      ]
    },
    {
      "cell_type": "code",
      "source": [
        "Y = []\n",
        "for index, json in enumerate(labels):\n",
        "  if index in Y_index:\n",
        "    label = ages(json['age_past'])\n",
        "    Y.append(label)  # 정답 레이블 리스트에 추가"
      ],
      "metadata": {
        "id": "j1wuPHao0SG1"
      },
      "execution_count": null,
      "outputs": []
    },
    {
      "cell_type": "code",
      "source": [
        "X0=zoom_img\n",
        "len(X0)"
      ],
      "metadata": {
        "colab": {
          "base_uri": "https://localhost:8080/"
        },
        "id": "2ZrwE-4745sZ",
        "outputId": "443cba7f-8b4c-46f4-991c-80642280e3bb"
      },
      "execution_count": null,
      "outputs": [
        {
          "output_type": "execute_result",
          "data": {
            "text/plain": [
              "1416"
            ]
          },
          "metadata": {},
          "execution_count": 28
        }
      ]
    },
    {
      "cell_type": "code",
      "source": [
        "Y0 = Y\n",
        "len(Y0)"
      ],
      "metadata": {
        "colab": {
          "base_uri": "https://localhost:8080/"
        },
        "id": "CLnmdBDp0Vqa",
        "outputId": "5cf69803-5fe8-4f27-a22d-78e3e63772e1"
      },
      "execution_count": null,
      "outputs": [
        {
          "output_type": "execute_result",
          "data": {
            "text/plain": [
              "1416"
            ]
          },
          "metadata": {},
          "execution_count": 29
        }
      ]
    },
    {
      "cell_type": "code",
      "source": [
        "X = np.array(X0)\n",
        "Y = np.array(Y0)\n",
        "\n",
        "print(\"Shape of X:\", X.shape) # 샘플수, 높이, 너비, 채널\n",
        "print(\"Shape of Y:\", Y.shape)"
      ],
      "metadata": {
        "colab": {
          "base_uri": "https://localhost:8080/"
        },
        "id": "bpFPLtlV5HI_",
        "outputId": "fc0ba00a-d0e5-4766-ef3c-459cfb52bca6"
      },
      "execution_count": null,
      "outputs": [
        {
          "output_type": "stream",
          "name": "stdout",
          "text": [
            "Shape of X: (1416, 64, 64, 3)\n",
            "Shape of Y: (1416, 3)\n"
          ]
        }
      ]
    },
    {
      "cell_type": "code",
      "source": [
        "# 학습 데이터와 테스트 데이터 분리\n",
        "X_train0, X_test, Y_train0, Y_test = train_test_split(X, Y, test_size=0.2, stratify=Y) # stratify는 클래스의 비율을 맞춰서 추출"
      ],
      "metadata": {
        "id": "i4KCGSDr0sKI"
      },
      "execution_count": null,
      "outputs": []
    },
    {
      "cell_type": "code",
      "source": [
        "len(X_train0)"
      ],
      "metadata": {
        "colab": {
          "base_uri": "https://localhost:8080/"
        },
        "id": "Vq0NYTWo4Ccs",
        "outputId": "95d1e368-446b-46ba-d3e5-92a1df8cccaf"
      },
      "execution_count": null,
      "outputs": [
        {
          "output_type": "execute_result",
          "data": {
            "text/plain": [
              "1132"
            ]
          },
          "metadata": {},
          "execution_count": 32
        }
      ]
    },
    {
      "cell_type": "code",
      "source": [
        "len(Y_train0)"
      ],
      "metadata": {
        "colab": {
          "base_uri": "https://localhost:8080/"
        },
        "id": "dWP_hCuU4WE9",
        "outputId": "2efd7e08-72ca-476b-c2de-429a092a6bcd"
      },
      "execution_count": null,
      "outputs": [
        {
          "output_type": "execute_result",
          "data": {
            "text/plain": [
              "1132"
            ]
          },
          "metadata": {},
          "execution_count": 33
        }
      ]
    },
    {
      "cell_type": "code",
      "source": [
        "from keras.preprocessing.image import ImageDataGenerator\n",
        "from google.colab.patches import cv2_imshow\n",
        "\n",
        "\n",
        "# 데이터 증강을 위한 ImageDataGenerator 생성\n",
        "datagen = ImageDataGenerator(\n",
        "    rotation_range=40,\n",
        "    width_shift_range=0.2,\n",
        "    height_shift_range=0.2,\n",
        "    shear_range=0.2,\n",
        "    zoom_range=0.2,\n",
        "    horizontal_flip=True,\n",
        "    brightness_range=[0.5, 1.5],\n",
        "    channel_shift_range=50\n",
        ")\n"
      ],
      "metadata": {
        "id": "3RlJgKXG092d"
      },
      "execution_count": null,
      "outputs": []
    },
    {
      "cell_type": "code",
      "source": [
        "# 데이터 증강 수행 및 결과 이미지 저장\n",
        "X_train_augmented_images1 = []\n",
        "for img in X_train0:\n",
        "    # 이미지를 4D 텐서로 변환 (너비, 높이, 채널)\n",
        "    img = np.expand_dims(img, axis=0)\n",
        "\n",
        "    # 데이터 증강 수행\n",
        "    for batch in datagen.flow(img, batch_size=1):\n",
        "        augmented_image = batch[0].astype('uint8')\n",
        "        #augmented_images.append(cv2.cvtColor(augmented_image, cv2.COLOR_BGR2RGB))\n",
        "        augmented_image2 = cv2.cvtColor(augmented_image, cv2.COLOR_BGR2RGB)\n",
        "        X_train_augmented_images1.append(augmented_image2)\n",
        "        break  # 하나의 이미지에 대해서만 수행\n"
      ],
      "metadata": {
        "id": "UZTbvi572q7V"
      },
      "execution_count": null,
      "outputs": []
    },
    {
      "cell_type": "code",
      "source": [
        "# 데이터 증강 수행 및 결과 이미지 저장\n",
        "X_train_augmented_images2 = []\n",
        "for img in X_train0:\n",
        "    # 이미지를 4D 텐서로 변환 (너비, 높이, 채널)\n",
        "    img = np.expand_dims(img, axis=0)\n",
        "\n",
        "    # 데이터 증강 수행\n",
        "    for batch in datagen.flow(img, batch_size=1):\n",
        "        augmented_image = batch[0].astype('uint8')\n",
        "        #augmented_images.append(cv2.cvtColor(augmented_image, cv2.COLOR_BGR2RGB))\n",
        "        augmented_image2 = cv2.cvtColor(augmented_image, cv2.COLOR_BGR2RGB)\n",
        "        X_train_augmented_images2.append(augmented_image2)\n",
        "        break  # 하나의 이미지에 대해서만 수행\n"
      ],
      "metadata": {
        "id": "pxKHM7tTxRDK"
      },
      "execution_count": null,
      "outputs": []
    },
    {
      "cell_type": "code",
      "source": [
        "# 데이터 증강 수행 및 결과 이미지 저장\n",
        "X_train_augmented_images3 = []\n",
        "for img in X_train0:\n",
        "    # 이미지를 4D 텐서로 변환 (너비, 높이, 채널)\n",
        "    img = np.expand_dims(img, axis=0)\n",
        "\n",
        "    # 데이터 증강 수행\n",
        "    for batch in datagen.flow(img, batch_size=1):\n",
        "        augmented_image = batch[0].astype('uint8')\n",
        "        #augmented_images.append(cv2.cvtColor(augmented_image, cv2.COLOR_BGR2RGB))\n",
        "        augmented_image2 = cv2.cvtColor(augmented_image, cv2.COLOR_BGR2RGB)\n",
        "        X_train_augmented_images3.append(augmented_image2)\n",
        "        break  # 하나의 이미지에 대해서만 수행\n"
      ],
      "metadata": {
        "id": "0_zBnSJSxVxU"
      },
      "execution_count": null,
      "outputs": []
    },
    {
      "cell_type": "code",
      "source": [
        "X_train_augmented_images1_2=[]\n",
        "for i in range(len(X_train_augmented_images1)):\n",
        "    X_train_augmented_images1_2.append(cv2.cvtColor(X_train_augmented_images1[i], cv2.COLOR_BGR2RGB))\n",
        "    #plt.imshow(cv2.cvtColor(augmented_images[i], cv2.COLOR_BGR2RGB))"
      ],
      "metadata": {
        "id": "dRHbQTSP2pSM"
      },
      "execution_count": null,
      "outputs": []
    },
    {
      "cell_type": "code",
      "source": [
        "X_train_augmented_images2_2=[]\n",
        "for i in range(len(X_train_augmented_images2)):\n",
        "    X_train_augmented_images2_2.append(cv2.cvtColor(X_train_augmented_images2[i], cv2.COLOR_BGR2RGB))\n",
        "    #plt.imshow(cv2.cvtColor(augmented_images[i], cv2.COLOR_BGR2RGB))"
      ],
      "metadata": {
        "id": "sJHMZp7_xbne"
      },
      "execution_count": null,
      "outputs": []
    },
    {
      "cell_type": "code",
      "source": [
        "X_train_augmented_images3_2=[]\n",
        "for i in range(len(X_train_augmented_images3)):\n",
        "    X_train_augmented_images3_2.append(cv2.cvtColor(X_train_augmented_images3[i], cv2.COLOR_BGR2RGB))\n",
        "    #plt.imshow(cv2.cvtColor(augmented_images[i], cv2.COLOR_BGR2RGB))"
      ],
      "metadata": {
        "id": "4eYYJ1jYxbJ-"
      },
      "execution_count": null,
      "outputs": []
    },
    {
      "cell_type": "code",
      "source": [
        "print(len(X_train_augmented_images1_2))\n",
        "print(len(X_train_augmented_images2_2))\n",
        "print(len(X_train_augmented_images3_2))"
      ],
      "metadata": {
        "colab": {
          "base_uri": "https://localhost:8080/"
        },
        "id": "o9w3P3FtxzSI",
        "outputId": "fd703ba0-7e0b-4326-8efa-af09e963def2"
      },
      "execution_count": null,
      "outputs": [
        {
          "output_type": "stream",
          "name": "stdout",
          "text": [
            "1132\n",
            "1132\n",
            "1132\n"
          ]
        }
      ]
    },
    {
      "cell_type": "code",
      "source": [
        "plt.imshow(X_train0[1])"
      ],
      "metadata": {
        "colab": {
          "base_uri": "https://localhost:8080/",
          "height": 450
        },
        "id": "AtEVBC7xyheF",
        "outputId": "16e65695-4f89-479c-d346-9e15871e3309"
      },
      "execution_count": null,
      "outputs": [
        {
          "output_type": "execute_result",
          "data": {
            "text/plain": [
              "<matplotlib.image.AxesImage at 0x7d2e1f7dc1c0>"
            ]
          },
          "metadata": {},
          "execution_count": 77
        },
        {
          "output_type": "display_data",
          "data": {
            "text/plain": [
              "<Figure size 640x480 with 1 Axes>"
            ],
            "image/png": "[encoded data removed]"
          },
          "metadata": {}
        }
      ]
    },
    {
      "cell_type": "code",
      "source": [
        "plt.imshow(X_train_augmented_images1_2[1])"
      ],
      "metadata": {
        "colab": {
          "base_uri": "https://localhost:8080/",
          "height": 450
        },
        "id": "JFFlXz3SydJ5",
        "outputId": "e1b9203c-c8d7-41b7-cb32-00a727be9291"
      },
      "execution_count": null,
      "outputs": [
        {
          "output_type": "execute_result",
          "data": {
            "text/plain": [
              "<matplotlib.image.AxesImage at 0x7d2e1cdd5f30>"
            ]
          },
          "metadata": {},
          "execution_count": 78
        },
        {
          "output_type": "display_data",
          "data": {
            "text/plain": [
              "<Figure size 640x480 with 1 Axes>"
            ],
            "image/png": "[encoded data removed]"
          },
          "metadata": {}
        }
      ]
    },
    {
      "cell_type": "code",
      "source": [
        "plt.imshow(X_train_augmented_images2_2[1])"
      ],
      "metadata": {
        "colab": {
          "base_uri": "https://localhost:8080/",
          "height": 450
        },
        "id": "lu12MSI8yf7M",
        "outputId": "328247eb-c828-4c8a-9ba3-e89eaba75324"
      },
      "execution_count": null,
      "outputs": [
        {
          "output_type": "execute_result",
          "data": {
            "text/plain": [
              "<matplotlib.image.AxesImage at 0x7d2e1f7d8430>"
            ]
          },
          "metadata": {},
          "execution_count": 79
        },
        {
          "output_type": "display_data",
          "data": {
            "text/plain": [
              "<Figure size 640x480 with 1 Axes>"
            ],
            "image/png": "[encoded data removed]"
          },
          "metadata": {}
        }
      ]
    },
    {
      "cell_type": "code",
      "source": [
        "plt.imshow(X_train_augmented_images3_2[1])"
      ],
      "metadata": {
        "colab": {
          "base_uri": "https://localhost:8080/",
          "height": 450
        },
        "id": "_U28_ijryTNI",
        "outputId": "dbc846e1-46b2-45cd-ded7-facc8008b381"
      },
      "execution_count": null,
      "outputs": [
        {
          "output_type": "execute_result",
          "data": {
            "text/plain": [
              "<matplotlib.image.AxesImage at 0x7d2e1ccb9fc0>"
            ]
          },
          "metadata": {},
          "execution_count": 80
        },
        {
          "output_type": "display_data",
          "data": {
            "text/plain": [
              "<Figure size 640x480 with 1 Axes>"
            ],
            "image/png": "[encoded data removed]"
          },
          "metadata": {}
        }
      ]
    },
    {
      "cell_type": "code",
      "source": [
        "Y_train0[1]"
      ],
      "metadata": {
        "colab": {
          "base_uri": "https://localhost:8080/"
        },
        "id": "YP3DJfDjzX8T",
        "outputId": "c8e60ec4-3980-45f2-c66c-0f5226ac813e"
      },
      "execution_count": null,
      "outputs": [
        {
          "output_type": "execute_result",
          "data": {
            "text/plain": [
              "array([1, 0, 0])"
            ]
          },
          "metadata": {},
          "execution_count": 81
        }
      ]
    },
    {
      "cell_type": "code",
      "source": [
        "type(X_train_augmented_images2)"
      ],
      "metadata": {
        "colab": {
          "base_uri": "https://localhost:8080/"
        },
        "id": "i7YzVAqK5ger",
        "outputId": "d5659aca-ec35-40b4-b3fe-110b4406145a"
      },
      "execution_count": null,
      "outputs": [
        {
          "output_type": "execute_result",
          "data": {
            "text/plain": [
              "list"
            ]
          },
          "metadata": {},
          "execution_count": 69
        }
      ]
    },
    {
      "cell_type": "code",
      "source": [
        "type(X_train0)"
      ],
      "metadata": {
        "colab": {
          "base_uri": "https://localhost:8080/"
        },
        "id": "ZNLoq0my6fjK",
        "outputId": "43a1fa79-4e49-49b6-d693-9a712a4a09e3"
      },
      "execution_count": null,
      "outputs": [
        {
          "output_type": "execute_result",
          "data": {
            "text/plain": [
              "numpy.ndarray"
            ]
          },
          "metadata": {},
          "execution_count": 70
        }
      ]
    },
    {
      "cell_type": "code",
      "source": [
        "X_train_list = list(X_train0) + X_train_augmented_images1_2 + X_train_augmented_images2_2 + X_train_augmented_images3_2\n",
        "Y_train_list = list(Y_train0)*4"
      ],
      "metadata": {
        "id": "_s0SxOn26S0P"
      },
      "execution_count": null,
      "outputs": []
    },
    {
      "cell_type": "code",
      "source": [
        "print(len(X_train_list))\n",
        "print(len(Y_train_list))"
      ],
      "metadata": {
        "colab": {
          "base_uri": "https://localhost:8080/"
        },
        "id": "LBdFKzgd6UTm",
        "outputId": "02d442fe-4a6a-4bad-f6f7-8c73083b587a"
      },
      "execution_count": null,
      "outputs": [
        {
          "output_type": "stream",
          "name": "stdout",
          "text": [
            "4528\n",
            "4528\n"
          ]
        }
      ]
    },
    {
      "cell_type": "code",
      "source": [
        "X_train = np.array(X_train_list)\n",
        "Y_train = np.array(Y_train_list)"
      ],
      "metadata": {
        "id": "NDFkt3sd5tAH"
      },
      "execution_count": null,
      "outputs": []
    },
    {
      "cell_type": "code",
      "source": [
        "print(\"X_train:\", X_train.shape[0], \"training images,\", \"height:\", X_train.shape[1], \", width:\", X_train.shape[2], \", channel:\", X_train.shape[3])\n",
        "print(\"X_test:\", X_test.shape[0], \"test images,\", \"height:\", X_test.shape[1], \", width:\", X_test.shape[2], \", channel:\", X_test.shape[3])\n",
        "print(\"Y_train:\", Y_train.shape[0], \"training images,\", Y_train.shape[1], \"classes\")\n",
        "print(\"Y_test:\", Y_test.shape[0], \"test images,\", Y_test.shape[1], \"classes\")"
      ],
      "metadata": {
        "colab": {
          "base_uri": "https://localhost:8080/"
        },
        "id": "TrrL3duY5aYP",
        "outputId": "14e6d32a-d020-4fa2-9616-3a0729a9386d"
      },
      "execution_count": null,
      "outputs": [
        {
          "output_type": "stream",
          "name": "stdout",
          "text": [
            "X_train: 4528 training images, height: 64 , width: 64 , channel: 3\n",
            "X_test: 284 test images, height: 64 , width: 64 , channel: 3\n",
            "Y_train: 4528 training images, 3 classes\n",
            "Y_test: 284 test images, 3 classes\n"
          ]
        }
      ]
    },
    {
      "cell_type": "code",
      "source": [
        "X_train, X_val, Y_train, Y_val = train_test_split(X_train, Y_train, stratify=Y_train, test_size=0.2)"
      ],
      "metadata": {
        "id": "2Crjfmny55sc"
      },
      "execution_count": null,
      "outputs": []
    },
    {
      "cell_type": "code",
      "source": [
        "# 파일로 저장\n",
        "np.save('X_train_data_with_aug_64.npy', X_train)\n",
        "np.save('Y_train_data_with_aug_64', Y_train)\n",
        "np.save('X_test_data_with_aug_64.npy', X_test)\n",
        "np.save('Y_test_data_with_aug_64.npy', Y_test)\n",
        "np.save('X_val_data_with_aug_64.npy', X_val)\n",
        "np.save('Y_val_data_with_aug_64.npy', Y_val)"
      ],
      "metadata": {
        "id": "uW-Xtvpz82Ea"
      },
      "execution_count": null,
      "outputs": []
    },
    {
      "cell_type": "code",
      "source": [],
      "metadata": {
        "id": "U7rrOiNZ-kaY"
      },
      "execution_count": null,
      "outputs": []
    }
  ]
}